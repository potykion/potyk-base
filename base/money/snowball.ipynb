{
 "cells": [
  {
   "cell_type": "code",
   "execution_count": 94,
   "metadata": {
    "collapsed": true,
    "ExecuteTime": {
     "end_time": "2023-06-08T10:03:46.730482800Z",
     "start_time": "2023-06-08T10:03:46.708829700Z"
    }
   },
   "outputs": [],
   "source": [
    "import json\n",
    "import random\n",
    "import string\n",
    "import time\n",
    "from collections import defaultdict\n",
    "\n",
    "from helium import *"
   ]
  },
  {
   "cell_type": "code",
   "execution_count": 6,
   "outputs": [],
   "source": [
    "driver = start_firefox()"
   ],
   "metadata": {
    "collapsed": false,
    "ExecuteTime": {
     "end_time": "2023-06-08T08:00:30.471244500Z",
     "start_time": "2023-06-08T08:00:24.821187700Z"
    }
   }
  },
  {
   "cell_type": "code",
   "execution_count": 12,
   "outputs": [],
   "source": [],
   "metadata": {
    "collapsed": false,
    "ExecuteTime": {
     "end_time": "2023-06-08T09:02:15.288807400Z",
     "start_time": "2023-06-08T09:02:14.510355500Z"
    }
   }
  },
  {
   "cell_type": "code",
   "execution_count": 14,
   "outputs": [],
   "source": [
    "write('20', into=TextField(to_right_of='KAZTP.MCX'))"
   ],
   "metadata": {
    "collapsed": false,
    "ExecuteTime": {
     "end_time": "2023-06-08T09:04:37.974787600Z",
     "start_time": "2023-06-08T09:04:37.427372600Z"
    }
   }
  },
  {
   "cell_type": "code",
   "execution_count": null,
   "outputs": [],
   "source": [],
   "metadata": {
    "collapsed": false
   }
  },
  {
   "cell_type": "code",
   "execution_count": 95,
   "outputs": [],
   "source": [
    "stocks = [\n",
    "  \"KAZTP.MCX\",\n",
    "  \"LSNGP.MCX\",\n",
    "  \"MDMG.MCX\",\n",
    "  \"SIBN.MCX\",\n",
    "  \"IRAO.MCX\",\n",
    "  \"SNGS.MCX\",\n",
    "  \"MSRS.MCX\",\n",
    "  \"TATNP.MCX\",\n",
    "  \"NVTK.MCX\",\n",
    "  \"LKOH.MCX\",\n",
    "  \"BANE.MCX\",\n",
    "  \"TTLK.MCX\",\n",
    "  \"MRKC.MCX\",\n",
    "  \"RTKM.MCX\",\n",
    "  \"STSBP.MCX\",\n",
    "  \"ROSN.MCX\",\n",
    "  \"KRSBP.MCX\"\n",
    "]"
   ],
   "metadata": {
    "collapsed": false,
    "ExecuteTime": {
     "end_time": "2023-06-08T10:03:51.054150200Z",
     "start_time": "2023-06-08T10:03:51.022481900Z"
    }
   }
  },
  {
   "cell_type": "code",
   "execution_count": 78,
   "outputs": [],
   "source": [
    "def make_shares(stocks):\n",
    "    shares = defaultdict(int)\n",
    "    remain_share = 100\n",
    "\n",
    "    stocks_to_randomize = stocks[::]\n",
    "\n",
    "    while True:\n",
    "        if not remain_share:\n",
    "            break\n",
    "\n",
    "        if not stocks_to_randomize:\n",
    "            stocks_to_randomize = stocks[::]\n",
    "\n",
    "        index = random.randint(0, len(stocks_to_randomize)-1)\n",
    "        stock = stocks_to_randomize.pop(index)\n",
    "        share = random.randint(0, min(remain_share, 50))\n",
    "        if share:\n",
    "            shares[stock] += share\n",
    "        remain_share -= share\n",
    "\n",
    "    assert sum(shares.values()) == 100\n",
    "    return dict(shares)"
   ],
   "metadata": {
    "collapsed": false,
    "ExecuteTime": {
     "end_time": "2023-06-08T09:41:12.951199500Z",
     "start_time": "2023-06-08T09:41:12.950689500Z"
    }
   }
  },
  {
   "cell_type": "code",
   "execution_count": 97,
   "outputs": [
    {
     "name": "stdout",
     "output_type": "stream",
     "text": [
      "59\n"
     ]
    }
   ],
   "source": [
    "with open(\"portfolios.json\", encoding='utf-8') as f:\n",
    "    portfolios = json.load(f)\n",
    "\n",
    "print(len(portfolios))"
   ],
   "metadata": {
    "collapsed": false,
    "ExecuteTime": {
     "end_time": "2023-06-08T10:04:01.181786900Z",
     "start_time": "2023-06-08T10:04:01.150417900Z"
    }
   }
  },
  {
   "cell_type": "code",
   "execution_count": 92,
   "outputs": [],
   "source": [
    "def make_random_portfolio():\n",
    "    # Распределение активов\n",
    "    share_details = S(\".col-xl-9 > div:nth-child(1) > div:nth-child(1) > div:nth-child(1)\")\n",
    "    click(share_details)\n",
    "\n",
    "    # Сбросить\n",
    "    reset = S(\"a.font-weight-bold:nth-child(2) > u:nth-child(1)\")\n",
    "    click(reset)\n",
    "\n",
    "    # Генерим и вводим доли\n",
    "    shares = make_shares(stocks)\n",
    "    print(json.dumps(shares))\n",
    "    for stock, share in shares.items():\n",
    "        write(str(share), into=TextField(to_right_of=stock))\n",
    "\n",
    "    # Рассчитать\n",
    "    doubleclick(S(\".btn-primary\"))\n",
    "    try:\n",
    "        profit = round(float(S(\"span.text-success:nth-child(3)\").web_element.text.replace(',', '.')[:-1]))\n",
    "    except LookupError:\n",
    "        profit = -round(float(S(\"span.text-danger:nth-child(3)\").web_element.text.replace(',', '.')[:-1]))\n",
    "    print(profit)\n",
    "\n",
    "    portfolio = {\"shares\": shares, \"profit\": profit}\n",
    "    print(json.dumps(portfolio))\n",
    "    portfolios.append(portfolio)\n",
    "    with open('portfolios.json', 'w', encoding='utf-8') as f:\n",
    "        f.write(json.dumps(portfolios, indent=2))"
   ],
   "metadata": {
    "collapsed": false,
    "ExecuteTime": {
     "end_time": "2023-06-08T09:53:40.100780600Z",
     "start_time": "2023-06-08T09:53:40.069279200Z"
    }
   }
  },
  {
   "cell_type": "code",
   "execution_count": 89,
   "outputs": [
    {
     "data": {
      "text/plain": "13"
     },
     "execution_count": 89,
     "metadata": {},
     "output_type": "execute_result"
    }
   ],
   "source": [
    "len(portfolios)"
   ],
   "metadata": {
    "collapsed": false,
    "ExecuteTime": {
     "end_time": "2023-06-08T09:52:22.308075700Z",
     "start_time": "2023-06-08T09:52:22.292174900Z"
    }
   }
  },
  {
   "cell_type": "code",
   "execution_count": 93,
   "outputs": [
    {
     "name": "stdout",
     "output_type": "stream",
     "text": [
      "{\"MDMG.MCX\": 23, \"IRAO.MCX\": 16, \"LKOH.MCX\": 47, \"BANE.MCX\": 9, \"RTKM.MCX\": 3, \"KRSBP.MCX\": 1, \"MSRS.MCX\": 1}\n",
      "28\n",
      "{\"shares\": {\"MDMG.MCX\": 23, \"IRAO.MCX\": 16, \"LKOH.MCX\": 47, \"BANE.MCX\": 9, \"RTKM.MCX\": 3, \"KRSBP.MCX\": 1, \"MSRS.MCX\": 1}, \"profit\": 28}\n",
      "{\"SNGS.MCX\": 37, \"MDMG.MCX\": 11, \"LKOH.MCX\": 27, \"SIBN.MCX\": 20, \"LSNGP.MCX\": 1, \"ROSN.MCX\": 4}\n",
      "26\n",
      "{\"shares\": {\"SNGS.MCX\": 37, \"MDMG.MCX\": 11, \"LKOH.MCX\": 27, \"SIBN.MCX\": 20, \"LSNGP.MCX\": 1, \"ROSN.MCX\": 4}, \"profit\": 26}\n",
      "{\"IRAO.MCX\": 23, \"KAZTP.MCX\": 42, \"SIBN.MCX\": 23, \"KRSBP.MCX\": 3, \"NVTK.MCX\": 8, \"LKOH.MCX\": 1}\n",
      "204\n",
      "{\"shares\": {\"IRAO.MCX\": 23, \"KAZTP.MCX\": 42, \"SIBN.MCX\": 23, \"KRSBP.MCX\": 3, \"NVTK.MCX\": 8, \"LKOH.MCX\": 1}, \"profit\": 204}\n",
      "{\"RTKM.MCX\": 50, \"SIBN.MCX\": 15, \"LSNGP.MCX\": 12, \"NVTK.MCX\": 11, \"MSRS.MCX\": 5, \"ROSN.MCX\": 7}\n",
      "18\n",
      "{\"shares\": {\"RTKM.MCX\": 50, \"SIBN.MCX\": 15, \"LSNGP.MCX\": 12, \"NVTK.MCX\": 11, \"MSRS.MCX\": 5, \"ROSN.MCX\": 7}, \"profit\": 18}\n",
      "{\"KAZTP.MCX\": 50, \"MRKC.MCX\": 26, \"SNGS.MCX\": 17, \"RTKM.MCX\": 3, \"IRAO.MCX\": 2, \"TATNP.MCX\": 2}\n",
      "212\n",
      "{\"shares\": {\"KAZTP.MCX\": 50, \"MRKC.MCX\": 26, \"SNGS.MCX\": 17, \"RTKM.MCX\": 3, \"IRAO.MCX\": 2, \"TATNP.MCX\": 2}, \"profit\": 212}\n",
      "{\"MDMG.MCX\": 34, \"BANE.MCX\": 14, \"STSBP.MCX\": 42, \"NVTK.MCX\": 4, \"IRAO.MCX\": 5, \"SIBN.MCX\": 1}\n",
      "289\n",
      "{\"shares\": {\"MDMG.MCX\": 34, \"BANE.MCX\": 14, \"STSBP.MCX\": 42, \"NVTK.MCX\": 4, \"IRAO.MCX\": 5, \"SIBN.MCX\": 1}, \"profit\": 289}\n",
      "{\"MSRS.MCX\": 14, \"LKOH.MCX\": 42, \"MDMG.MCX\": 27, \"TATNP.MCX\": 11, \"SNGS.MCX\": 1, \"IRAO.MCX\": 4, \"TTLK.MCX\": 1}\n",
      "29\n",
      "{\"shares\": {\"MSRS.MCX\": 14, \"LKOH.MCX\": 42, \"MDMG.MCX\": 27, \"TATNP.MCX\": 11, \"SNGS.MCX\": 1, \"IRAO.MCX\": 4, \"TTLK.MCX\": 1}, \"profit\": 29}\n",
      "{\"MDMG.MCX\": 37, \"SNGS.MCX\": 27, \"ROSN.MCX\": 12, \"LKOH.MCX\": 4, \"TTLK.MCX\": 12, \"MRKC.MCX\": 2, \"STSBP.MCX\": 3, \"KAZTP.MCX\": 3}\n",
      "59\n",
      "{\"shares\": {\"MDMG.MCX\": 37, \"SNGS.MCX\": 27, \"ROSN.MCX\": 12, \"LKOH.MCX\": 4, \"TTLK.MCX\": 12, \"MRKC.MCX\": 2, \"STSBP.MCX\": 3, \"KAZTP.MCX\": 3}, \"profit\": 59}\n",
      "{\"IRAO.MCX\": 43, \"MSRS.MCX\": 23, \"LKOH.MCX\": 17, \"TATNP.MCX\": 17}\n",
      "5\n",
      "{\"shares\": {\"IRAO.MCX\": 43, \"MSRS.MCX\": 23, \"LKOH.MCX\": 17, \"TATNP.MCX\": 17}, \"profit\": 5}\n",
      "{\"LKOH.MCX\": 33, \"SIBN.MCX\": 24, \"TATNP.MCX\": 16, \"KRSBP.MCX\": 18, \"MSRS.MCX\": 4, \"MDMG.MCX\": 2, \"STSBP.MCX\": 2, \"MRKC.MCX\": 1}\n",
      "83\n",
      "{\"shares\": {\"LKOH.MCX\": 33, \"SIBN.MCX\": 24, \"TATNP.MCX\": 16, \"KRSBP.MCX\": 18, \"MSRS.MCX\": 4, \"MDMG.MCX\": 2, \"STSBP.MCX\": 2, \"MRKC.MCX\": 1}, \"profit\": 83}\n",
      "{\"TATNP.MCX\": 19, \"MRKC.MCX\": 14, \"STSBP.MCX\": 12, \"SIBN.MCX\": 11, \"IRAO.MCX\": 18, \"MDMG.MCX\": 6, \"KRSBP.MCX\": 3, \"ROSN.MCX\": 17}\n",
      "106\n",
      "{\"shares\": {\"TATNP.MCX\": 19, \"MRKC.MCX\": 14, \"STSBP.MCX\": 12, \"SIBN.MCX\": 11, \"IRAO.MCX\": 18, \"MDMG.MCX\": 6, \"KRSBP.MCX\": 3, \"ROSN.MCX\": 17}, \"profit\": 106}\n",
      "{\"ROSN.MCX\": 41, \"BANE.MCX\": 8, \"TTLK.MCX\": 49, \"RTKM.MCX\": 2}\n",
      "70\n",
      "{\"shares\": {\"ROSN.MCX\": 41, \"BANE.MCX\": 8, \"TTLK.MCX\": 49, \"RTKM.MCX\": 2}, \"profit\": 70}\n",
      "{\"STSBP.MCX\": 7, \"LSNGP.MCX\": 26, \"BANE.MCX\": 43, \"MSRS.MCX\": 14, \"SIBN.MCX\": 10}\n",
      "85\n",
      "{\"shares\": {\"STSBP.MCX\": 7, \"LSNGP.MCX\": 26, \"BANE.MCX\": 43, \"MSRS.MCX\": 14, \"SIBN.MCX\": 10}, \"profit\": 85}\n",
      "{\"TATNP.MCX\": 18, \"ROSN.MCX\": 15, \"KAZTP.MCX\": 42, \"LSNGP.MCX\": 21, \"LKOH.MCX\": 3, \"MDMG.MCX\": 1}\n",
      "197\n",
      "{\"shares\": {\"TATNP.MCX\": 18, \"ROSN.MCX\": 15, \"KAZTP.MCX\": 42, \"LSNGP.MCX\": 21, \"LKOH.MCX\": 3, \"MDMG.MCX\": 1}, \"profit\": 197}\n",
      "{\"SNGS.MCX\": 30, \"IRAO.MCX\": 23, \"ROSN.MCX\": 35, \"MDMG.MCX\": 9, \"SIBN.MCX\": 3}\n",
      "3\n",
      "{\"shares\": {\"SNGS.MCX\": 30, \"IRAO.MCX\": 23, \"ROSN.MCX\": 35, \"MDMG.MCX\": 9, \"SIBN.MCX\": 3}, \"profit\": 3}\n",
      "{\"KRSBP.MCX\": 45, \"MRKC.MCX\": 16, \"RTKM.MCX\": 5, \"LKOH.MCX\": 18, \"TATNP.MCX\": 3, \"ROSN.MCX\": 13}\n",
      "86\n",
      "{\"shares\": {\"KRSBP.MCX\": 45, \"MRKC.MCX\": 16, \"RTKM.MCX\": 5, \"LKOH.MCX\": 18, \"TATNP.MCX\": 3, \"ROSN.MCX\": 13}, \"profit\": 86}\n",
      "{\"KRSBP.MCX\": 20, \"IRAO.MCX\": 9, \"MRKC.MCX\": 24, \"RTKM.MCX\": 33, \"SIBN.MCX\": 1, \"KAZTP.MCX\": 2, \"TTLK.MCX\": 6, \"MDMG.MCX\": 5}\n",
      "52\n",
      "{\"shares\": {\"KRSBP.MCX\": 20, \"IRAO.MCX\": 9, \"MRKC.MCX\": 24, \"RTKM.MCX\": 33, \"SIBN.MCX\": 1, \"KAZTP.MCX\": 2, \"TTLK.MCX\": 6, \"MDMG.MCX\": 5}, \"profit\": 52}\n",
      "{\"LSNGP.MCX\": 46, \"RTKM.MCX\": 44, \"SNGS.MCX\": 5, \"KAZTP.MCX\": 3, \"ROSN.MCX\": 2}\n",
      "35\n",
      "{\"shares\": {\"LSNGP.MCX\": 46, \"RTKM.MCX\": 44, \"SNGS.MCX\": 5, \"KAZTP.MCX\": 3, \"ROSN.MCX\": 2}, \"profit\": 35}\n",
      "{\"KRSBP.MCX\": 4, \"ROSN.MCX\": 45, \"MSRS.MCX\": 35, \"IRAO.MCX\": 12, \"RTKM.MCX\": 3, \"MRKC.MCX\": 1}\n",
      "13\n",
      "{\"shares\": {\"KRSBP.MCX\": 4, \"ROSN.MCX\": 45, \"MSRS.MCX\": 35, \"IRAO.MCX\": 12, \"RTKM.MCX\": 3, \"MRKC.MCX\": 1}, \"profit\": 13}\n",
      "{\"RTKM.MCX\": 8, \"LSNGP.MCX\": 18, \"BANE.MCX\": 28, \"MSRS.MCX\": 4, \"TATNP.MCX\": 41, \"IRAO.MCX\": 1}\n",
      "27\n",
      "{\"shares\": {\"RTKM.MCX\": 8, \"LSNGP.MCX\": 18, \"BANE.MCX\": 28, \"MSRS.MCX\": 4, \"TATNP.MCX\": 41, \"IRAO.MCX\": 1}, \"profit\": 27}\n",
      "{\"IRAO.MCX\": 19, \"LKOH.MCX\": 10, \"MRKC.MCX\": 3, \"ROSN.MCX\": 31, \"RTKM.MCX\": 37}\n",
      "1\n",
      "{\"shares\": {\"IRAO.MCX\": 19, \"LKOH.MCX\": 10, \"MRKC.MCX\": 3, \"ROSN.MCX\": 31, \"RTKM.MCX\": 37}, \"profit\": 1}\n",
      "{\"MRKC.MCX\": 33, \"KRSBP.MCX\": 8, \"TTLK.MCX\": 44, \"KAZTP.MCX\": 4, \"MSRS.MCX\": 6, \"MDMG.MCX\": 1, \"NVTK.MCX\": 3, \"LSNGP.MCX\": 1}\n",
      "97\n",
      "{\"shares\": {\"MRKC.MCX\": 33, \"KRSBP.MCX\": 8, \"TTLK.MCX\": 44, \"KAZTP.MCX\": 4, \"MSRS.MCX\": 6, \"MDMG.MCX\": 1, \"NVTK.MCX\": 3, \"LSNGP.MCX\": 1}, \"profit\": 97}\n",
      "{\"LKOH.MCX\": 12, \"TATNP.MCX\": 30, \"LSNGP.MCX\": 9, \"ROSN.MCX\": 47, \"BANE.MCX\": 2}\n",
      "26\n",
      "{\"shares\": {\"LKOH.MCX\": 12, \"TATNP.MCX\": 30, \"LSNGP.MCX\": 9, \"ROSN.MCX\": 47, \"BANE.MCX\": 2}, \"profit\": 26}\n",
      "{\"MDMG.MCX\": 12, \"TATNP.MCX\": 20, \"KAZTP.MCX\": 2, \"NVTK.MCX\": 38, \"MRKC.MCX\": 3, \"LSNGP.MCX\": 16, \"LKOH.MCX\": 3, \"IRAO.MCX\": 3, \"SIBN.MCX\": 3}\n",
      "43\n",
      "{\"shares\": {\"MDMG.MCX\": 12, \"TATNP.MCX\": 20, \"KAZTP.MCX\": 2, \"NVTK.MCX\": 38, \"MRKC.MCX\": 3, \"LSNGP.MCX\": 16, \"LKOH.MCX\": 3, \"IRAO.MCX\": 3, \"SIBN.MCX\": 3}, \"profit\": 43}\n",
      "{\"LKOH.MCX\": 3, \"SIBN.MCX\": 26, \"BANE.MCX\": 32, \"RTKM.MCX\": 6, \"MSRS.MCX\": 31, \"TTLK.MCX\": 2}\n",
      "38\n",
      "{\"shares\": {\"LKOH.MCX\": 3, \"SIBN.MCX\": 26, \"BANE.MCX\": 32, \"RTKM.MCX\": 6, \"MSRS.MCX\": 31, \"TTLK.MCX\": 2}, \"profit\": 38}\n",
      "{\"MDMG.MCX\": 17, \"LSNGP.MCX\": 38, \"ROSN.MCX\": 35, \"BANE.MCX\": 10}\n",
      "42\n",
      "{\"shares\": {\"MDMG.MCX\": 17, \"LSNGP.MCX\": 38, \"ROSN.MCX\": 35, \"BANE.MCX\": 10}, \"profit\": 42}\n",
      "{\"MSRS.MCX\": 15, \"SNGS.MCX\": 37, \"KRSBP.MCX\": 35, \"KAZTP.MCX\": 7, \"IRAO.MCX\": 2, \"STSBP.MCX\": 1, \"BANE.MCX\": 1, \"LSNGP.MCX\": 2}\n",
      "83\n",
      "{\"shares\": {\"MSRS.MCX\": 15, \"SNGS.MCX\": 37, \"KRSBP.MCX\": 35, \"KAZTP.MCX\": 7, \"IRAO.MCX\": 2, \"STSBP.MCX\": 1, \"BANE.MCX\": 1, \"LSNGP.MCX\": 2}, \"profit\": 83}\n",
      "{\"STSBP.MCX\": 41, \"TATNP.MCX\": 17, \"MRKC.MCX\": 33, \"RTKM.MCX\": 6, \"KRSBP.MCX\": 2, \"KAZTP.MCX\": 1}\n",
      "285\n",
      "{\"shares\": {\"STSBP.MCX\": 41, \"TATNP.MCX\": 17, \"MRKC.MCX\": 33, \"RTKM.MCX\": 6, \"KRSBP.MCX\": 2, \"KAZTP.MCX\": 1}, \"profit\": 285}\n",
      "{\"MSRS.MCX\": 4, \"NVTK.MCX\": 22, \"IRAO.MCX\": 24, \"BANE.MCX\": 42, \"SNGS.MCX\": 7, \"TATNP.MCX\": 1}\n",
      "13\n",
      "{\"shares\": {\"MSRS.MCX\": 4, \"NVTK.MCX\": 22, \"IRAO.MCX\": 24, \"BANE.MCX\": 42, \"SNGS.MCX\": 7, \"TATNP.MCX\": 1}, \"profit\": 13}\n",
      "{\"IRAO.MCX\": 7, \"LKOH.MCX\": 5, \"MRKC.MCX\": 9, \"TTLK.MCX\": 17, \"SIBN.MCX\": 34, \"TATNP.MCX\": 19, \"NVTK.MCX\": 5, \"RTKM.MCX\": 1, \"LSNGP.MCX\": 3}\n",
      "67\n",
      "{\"shares\": {\"IRAO.MCX\": 7, \"LKOH.MCX\": 5, \"MRKC.MCX\": 9, \"TTLK.MCX\": 17, \"SIBN.MCX\": 34, \"TATNP.MCX\": 19, \"NVTK.MCX\": 5, \"RTKM.MCX\": 1, \"LSNGP.MCX\": 3}, \"profit\": 67}\n",
      "{\"STSBP.MCX\": 32, \"KRSBP.MCX\": 46, \"NVTK.MCX\": 5, \"MSRS.MCX\": 12, \"LSNGP.MCX\": 2, \"LKOH.MCX\": 3}\n",
      "283\n",
      "{\"shares\": {\"STSBP.MCX\": 32, \"KRSBP.MCX\": 46, \"NVTK.MCX\": 5, \"MSRS.MCX\": 12, \"LSNGP.MCX\": 2, \"LKOH.MCX\": 3}, \"profit\": 283}\n",
      "{\"SIBN.MCX\": 6, \"LSNGP.MCX\": 46, \"KAZTP.MCX\": 5, \"IRAO.MCX\": 26, \"BANE.MCX\": 2, \"TTLK.MCX\": 14, \"TATNP.MCX\": 1}\n",
      "74\n",
      "{\"shares\": {\"SIBN.MCX\": 6, \"LSNGP.MCX\": 46, \"KAZTP.MCX\": 5, \"IRAO.MCX\": 26, \"BANE.MCX\": 2, \"TTLK.MCX\": 14, \"TATNP.MCX\": 1}, \"profit\": 74}\n",
      "{\"MSRS.MCX\": 30, \"MRKC.MCX\": 44, \"IRAO.MCX\": 21, \"KRSBP.MCX\": 2, \"LSNGP.MCX\": 3}\n",
      "18\n",
      "{\"shares\": {\"MSRS.MCX\": 30, \"MRKC.MCX\": 44, \"IRAO.MCX\": 21, \"KRSBP.MCX\": 2, \"LSNGP.MCX\": 3}, \"profit\": 18}\n",
      "{\"MSRS.MCX\": 36, \"TTLK.MCX\": 35, \"BANE.MCX\": 6, \"RTKM.MCX\": 23}\n",
      "40\n",
      "{\"shares\": {\"MSRS.MCX\": 36, \"TTLK.MCX\": 35, \"BANE.MCX\": 6, \"RTKM.MCX\": 23}, \"profit\": 40}\n",
      "{\"LKOH.MCX\": 46, \"TATNP.MCX\": 45, \"TTLK.MCX\": 2, \"KRSBP.MCX\": 2, \"SIBN.MCX\": 3, \"KAZTP.MCX\": 2}\n",
      "43\n",
      "{\"shares\": {\"LKOH.MCX\": 46, \"TATNP.MCX\": 45, \"TTLK.MCX\": 2, \"KRSBP.MCX\": 2, \"SIBN.MCX\": 3, \"KAZTP.MCX\": 2}, \"profit\": 43}\n",
      "{\"TATNP.MCX\": 10, \"KRSBP.MCX\": 38, \"STSBP.MCX\": 33, \"KAZTP.MCX\": 10, \"MRKC.MCX\": 3, \"SIBN.MCX\": 2, \"TTLK.MCX\": 4}\n",
      "324\n",
      "{\"shares\": {\"TATNP.MCX\": 10, \"KRSBP.MCX\": 38, \"STSBP.MCX\": 33, \"KAZTP.MCX\": 10, \"MRKC.MCX\": 3, \"SIBN.MCX\": 2, \"TTLK.MCX\": 4}, \"profit\": 324}\n",
      "{\"KAZTP.MCX\": 22, \"MSRS.MCX\": 18, \"IRAO.MCX\": 43, \"KRSBP.MCX\": 7, \"LKOH.MCX\": 8, \"SIBN.MCX\": 2}\n",
      "103\n",
      "{\"shares\": {\"KAZTP.MCX\": 22, \"MSRS.MCX\": 18, \"IRAO.MCX\": 43, \"KRSBP.MCX\": 7, \"LKOH.MCX\": 8, \"SIBN.MCX\": 2}, \"profit\": 103}\n",
      "{\"SIBN.MCX\": 14, \"RTKM.MCX\": 25, \"LKOH.MCX\": 22, \"MDMG.MCX\": 2, \"STSBP.MCX\": 13, \"ROSN.MCX\": 20, \"MRKC.MCX\": 4}\n",
      "107\n",
      "{\"shares\": {\"SIBN.MCX\": 14, \"RTKM.MCX\": 25, \"LKOH.MCX\": 22, \"MDMG.MCX\": 2, \"STSBP.MCX\": 13, \"ROSN.MCX\": 20, \"MRKC.MCX\": 4}, \"profit\": 107}\n",
      "{\"IRAO.MCX\": 17, \"KAZTP.MCX\": 41, \"NVTK.MCX\": 26, \"LSNGP.MCX\": 10, \"TATNP.MCX\": 1, \"SIBN.MCX\": 2, \"LKOH.MCX\": 1, \"SNGS.MCX\": 1, \"MRKC.MCX\": 1}\n",
      "185\n",
      "{\"shares\": {\"IRAO.MCX\": 17, \"KAZTP.MCX\": 41, \"NVTK.MCX\": 26, \"LSNGP.MCX\": 10, \"TATNP.MCX\": 1, \"SIBN.MCX\": 2, \"LKOH.MCX\": 1, \"SNGS.MCX\": 1, \"MRKC.MCX\": 1}, \"profit\": 185}\n",
      "{\"SNGS.MCX\": 46, \"ROSN.MCX\": 7, \"RTKM.MCX\": 16, \"LSNGP.MCX\": 9, \"NVTK.MCX\": 11, \"STSBP.MCX\": 1, \"KRSBP.MCX\": 2, \"SIBN.MCX\": 3, \"IRAO.MCX\": 5}\n",
      "7\n",
      "{\"shares\": {\"SNGS.MCX\": 46, \"ROSN.MCX\": 7, \"RTKM.MCX\": 16, \"LSNGP.MCX\": 9, \"NVTK.MCX\": 11, \"STSBP.MCX\": 1, \"KRSBP.MCX\": 2, \"SIBN.MCX\": 3, \"IRAO.MCX\": 5}, \"profit\": 7}\n",
      "{\"MDMG.MCX\": 36, \"MSRS.MCX\": 45, \"ROSN.MCX\": 15, \"SNGS.MCX\": 3, \"KAZTP.MCX\": 1}\n",
      "20\n",
      "{\"shares\": {\"MDMG.MCX\": 36, \"MSRS.MCX\": 45, \"ROSN.MCX\": 15, \"SNGS.MCX\": 3, \"KAZTP.MCX\": 1}, \"profit\": 20}\n",
      "{\"LSNGP.MCX\": 6, \"STSBP.MCX\": 4, \"LKOH.MCX\": 1, \"MRKC.MCX\": 2, \"SIBN.MCX\": 36, \"KRSBP.MCX\": 39, \"BANE.MCX\": 2, \"MDMG.MCX\": 3, \"NVTK.MCX\": 2, \"TATNP.MCX\": 2, \"SNGS.MCX\": 3}\n",
      "132\n",
      "{\"shares\": {\"LSNGP.MCX\": 6, \"STSBP.MCX\": 4, \"LKOH.MCX\": 1, \"MRKC.MCX\": 2, \"SIBN.MCX\": 36, \"KRSBP.MCX\": 39, \"BANE.MCX\": 2, \"MDMG.MCX\": 3, \"NVTK.MCX\": 2, \"TATNP.MCX\": 2, \"SNGS.MCX\": 3}, \"profit\": 132}\n",
      "{\"TTLK.MCX\": 7, \"LSNGP.MCX\": 41, \"TATNP.MCX\": 36, \"MSRS.MCX\": 7, \"SIBN.MCX\": 5, \"RTKM.MCX\": 4}\n",
      "49\n",
      "{\"shares\": {\"TTLK.MCX\": 7, \"LSNGP.MCX\": 41, \"TATNP.MCX\": 36, \"MSRS.MCX\": 7, \"SIBN.MCX\": 5, \"RTKM.MCX\": 4}, \"profit\": 49}\n",
      "{\"MSRS.MCX\": 12, \"TATNP.MCX\": 25, \"TTLK.MCX\": 28, \"NVTK.MCX\": 19, \"LKOH.MCX\": 5, \"MDMG.MCX\": 7, \"RTKM.MCX\": 2, \"MRKC.MCX\": 1, \"SIBN.MCX\": 1}\n",
      "50\n",
      "{\"shares\": {\"MSRS.MCX\": 12, \"TATNP.MCX\": 25, \"TTLK.MCX\": 28, \"NVTK.MCX\": 19, \"LKOH.MCX\": 5, \"MDMG.MCX\": 7, \"RTKM.MCX\": 2, \"MRKC.MCX\": 1, \"SIBN.MCX\": 1}, \"profit\": 50}\n",
      "{\"ROSN.MCX\": 45, \"LSNGP.MCX\": 5, \"TTLK.MCX\": 9, \"BANE.MCX\": 2, \"KAZTP.MCX\": 28, \"NVTK.MCX\": 6, \"MRKC.MCX\": 5}\n",
      "Unexpected exception formatting exception. Falling back to standard exception\n"
     ]
    },
    {
     "name": "stderr",
     "output_type": "stream",
     "text": [
      "Traceback (most recent call last):\n",
      "  File \"C:\\Users\\potyk\\PycharmProjects\\potyk-base\\.venv\\Lib\\site-packages\\IPython\\core\\interactiveshell.py\", line 3508, in run_code\n",
      "    exec(code_obj, self.user_global_ns, self.user_ns)\n",
      "  File \"C:\\Users\\potyk\\AppData\\Local\\Temp\\ipykernel_10520\\5613732.py\", line 2, in <module>\n",
      "    make_random_portfolio()\n",
      "  File \"C:\\Users\\potyk\\AppData\\Local\\Temp\\ipykernel_10520\\974211523.py\", line 17, in make_random_portfolio\n",
      "    doubleclick(S(\".btn-primary\"))\n",
      "  File \"C:\\Users\\potyk\\PycharmProjects\\potyk-base\\.venv\\Lib\\site-packages\\helium\\__init__.py\", line 307, in doubleclick\n",
      "    _get_api_impl().doubleclick_impl(element)\n",
      "  File \"C:\\Users\\potyk\\PycharmProjects\\potyk-base\\.venv\\Lib\\site-packages\\helium\\_impl\\__init__.py\", line 206, in doubleclick_impl\n",
      "    self._perform_mouse_action(element, self._doubleclick)\n",
      "  File \"C:\\Users\\potyk\\PycharmProjects\\potyk-base\\.venv\\Lib\\site-packages\\helium\\_impl\\__init__.py\", line 37, in f_decorated\n",
      "    result = f(self, *args, **kwargs)\n",
      "             ^^^^^^^^^^^^^^^^^^^^^^^^\n",
      "  File \"C:\\Users\\potyk\\PycharmProjects\\potyk-base\\.venv\\Lib\\site-packages\\helium\\_impl\\__init__.py\", line 56, in f_decorated\n",
      "    return f(*args, **kwargs)\n",
      "           ^^^^^^^^^^^^^^^^^^\n",
      "  File \"C:\\Users\\potyk\\PycharmProjects\\potyk-base\\.venv\\Lib\\site-packages\\helium\\_impl\\__init__.py\", line 242, in _perform_mouse_action\n",
      "    self._manipulate(element, lambda wew: action(wew.unwrap(), offset))\n",
      "  File \"C:\\Users\\potyk\\PycharmProjects\\potyk-base\\.venv\\Lib\\site-packages\\helium\\_impl\\__init__.py\", line 303, in _manipulate\n",
      "    driver.last_manipulated_element = gui_or_web_elt.perform(action)\n",
      "                                      ^^^^^^^^^^^^^^^^^^^^^^^^^^^^^^\n",
      "  File \"C:\\Users\\potyk\\PycharmProjects\\potyk-base\\.venv\\Lib\\site-packages\\helium\\_impl\\__init__.py\", line 647, in perform\n",
      "    result = self._perform_no_wait(action)\n",
      "             ^^^^^^^^^^^^^^^^^^^^^^^^^^^^^\n",
      "  File \"C:\\Users\\potyk\\PycharmProjects\\potyk-base\\.venv\\Lib\\site-packages\\helium\\_impl\\__init__.py\", line 655, in _perform_no_wait\n",
      "    action(occurrence)\n",
      "  File \"C:\\Users\\potyk\\PycharmProjects\\potyk-base\\.venv\\Lib\\site-packages\\helium\\_impl\\__init__.py\", line 242, in <lambda>\n",
      "    self._manipulate(element, lambda wew: action(wew.unwrap(), offset))\n",
      "                                          ^^^^^^^^^^^^^^^^^^^^^^^^^^^^\n",
      "  File \"C:\\Users\\potyk\\PycharmProjects\\potyk-base\\.venv\\Lib\\site-packages\\helium\\_impl\\__init__.py\", line 218, in _doubleclick\n",
      "    self._move_to_element(selenium_elt, offset).double_click().perform()\n",
      "  File \"C:\\Users\\potyk\\PycharmProjects\\potyk-base\\.venv\\Lib\\site-packages\\selenium\\webdriver\\common\\action_chains.py\", line 80, in perform\n",
      "    keyboard = device\n",
      "  File \"C:\\Users\\potyk\\PycharmProjects\\potyk-base\\.venv\\Lib\\site-packages\\selenium\\webdriver\\common\\actions\\action_builder.py\", line 76, in perform\n",
      "    self._add_input(new_input)\n",
      "  File \"C:\\Users\\potyk\\PycharmProjects\\potyk-base\\.venv\\Lib\\site-packages\\selenium\\webdriver\\remote\\webdriver.py\", line 319, in execute\n",
      "    for key, val in value.items():\n",
      "           ^^^^^^^^^^^^^^^^^^^^^^^^\n",
      "  File \"C:\\Users\\potyk\\PycharmProjects\\potyk-base\\.venv\\Lib\\site-packages\\selenium\\webdriver\\remote\\remote_connection.py\", line 374, in execute\n",
      "  File \"C:\\Users\\potyk\\PycharmProjects\\potyk-base\\.venv\\Lib\\site-packages\\selenium\\webdriver\\remote\\remote_connection.py\", line 397, in _request\n",
      "  File \"C:\\Users\\potyk\\PycharmProjects\\potyk-base\\.venv\\Lib\\site-packages\\urllib3\\request.py\", line 78, in request\n",
      "    return self.request_encode_body(\n",
      "           ^^^^^^^^^^^^^^^^^^^^^^^^^\n",
      "  File \"C:\\Users\\potyk\\PycharmProjects\\potyk-base\\.venv\\Lib\\site-packages\\urllib3\\request.py\", line 170, in request_encode_body\n",
      "    return self.urlopen(method, url, **extra_kw)\n",
      "           ^^^^^^^^^^^^^^^^^^^^^^^^^^^^^^^^^^^^^\n",
      "  File \"C:\\Users\\potyk\\PycharmProjects\\potyk-base\\.venv\\Lib\\site-packages\\urllib3\\poolmanager.py\", line 376, in urlopen\n",
      "    response = conn.urlopen(method, u.request_uri, **kw)\n",
      "               ^^^^^^^^^^^^^^^^^^^^^^^^^^^^^^^^^^^^^^^^^\n",
      "  File \"C:\\Users\\potyk\\PycharmProjects\\potyk-base\\.venv\\Lib\\site-packages\\urllib3\\connectionpool.py\", line 714, in urlopen\n",
      "    httplib_response = self._make_request(\n",
      "                       ^^^^^^^^^^^^^^^^^^^\n",
      "  File \"C:\\Users\\potyk\\PycharmProjects\\potyk-base\\.venv\\Lib\\site-packages\\urllib3\\connectionpool.py\", line 466, in _make_request\n",
      "    six.raise_from(e, None)\n",
      "  File \"<string>\", line 3, in raise_from\n",
      "  File \"C:\\Users\\potyk\\PycharmProjects\\potyk-base\\.venv\\Lib\\site-packages\\urllib3\\connectionpool.py\", line 461, in _make_request\n",
      "    httplib_response = conn.getresponse()\n",
      "                       ^^^^^^^^^^^^^^^^^^\n",
      "  File \"C:\\Python311\\Lib\\http\\client.py\", line 1375, in getresponse\n",
      "    response.begin()\n",
      "  File \"C:\\Python311\\Lib\\http\\client.py\", line 318, in begin\n",
      "    version, status, reason = self._read_status()\n",
      "                              ^^^^^^^^^^^^^^^^^^^\n",
      "  File \"C:\\Python311\\Lib\\http\\client.py\", line 279, in _read_status\n",
      "    line = str(self.fp.readline(_MAXLINE + 1), \"iso-8859-1\")\n",
      "               ^^^^^^^^^^^^^^^^^^^^^^^^^^^^^^\n",
      "  File \"C:\\Python311\\Lib\\socket.py\", line 706, in readinto\n",
      "    return self._sock.recv_into(b)\n",
      "           ^^^^^^^^^^^^^^^^^^^^^^^\n",
      "KeyboardInterrupt\n",
      "\n",
      "During handling of the above exception, another exception occurred:\n",
      "\n",
      "Traceback (most recent call last):\n",
      "  File \"C:\\Users\\potyk\\PycharmProjects\\potyk-base\\.venv\\Lib\\site-packages\\IPython\\core\\interactiveshell.py\", line 2105, in showtraceback\n",
      "    stb = self.InteractiveTB.structured_traceback(\n",
      "          ^^^^^^^^^^^^^^^^^^^^^^^^^^^^^^^^^^^^^^^^\n",
      "  File \"C:\\Users\\potyk\\PycharmProjects\\potyk-base\\.venv\\Lib\\site-packages\\IPython\\core\\ultratb.py\", line 1428, in structured_traceback\n",
      "    return FormattedTB.structured_traceback(\n",
      "           ^^^^^^^^^^^^^^^^^^^^^^^^^^^^^^^^^\n",
      "  File \"C:\\Users\\potyk\\PycharmProjects\\potyk-base\\.venv\\Lib\\site-packages\\IPython\\core\\ultratb.py\", line 1319, in structured_traceback\n",
      "    return VerboseTB.structured_traceback(\n",
      "           ^^^^^^^^^^^^^^^^^^^^^^^^^^^^^^^\n",
      "  File \"C:\\Users\\potyk\\PycharmProjects\\potyk-base\\.venv\\Lib\\site-packages\\IPython\\core\\ultratb.py\", line 1172, in structured_traceback\n",
      "    formatted_exception = self.format_exception_as_a_whole(etype, evalue, etb, number_of_lines_of_context,\n",
      "                          ^^^^^^^^^^^^^^^^^^^^^^^^^^^^^^^^^^^^^^^^^^^^^^^^^^^^^^^^^^^^^^^^^^^^^^^^^^^^^^^^\n",
      "  File \"C:\\Users\\potyk\\PycharmProjects\\potyk-base\\.venv\\Lib\\site-packages\\IPython\\core\\ultratb.py\", line 1087, in format_exception_as_a_whole\n",
      "    frames.append(self.format_record(record))\n",
      "                  ^^^^^^^^^^^^^^^^^^^^^^^^^^\n",
      "  File \"C:\\Users\\potyk\\PycharmProjects\\potyk-base\\.venv\\Lib\\site-packages\\IPython\\core\\ultratb.py\", line 969, in format_record\n",
      "    frame_info.lines, Colors, self.has_colors, lvals\n",
      "    ^^^^^^^^^^^^^^^^\n",
      "  File \"C:\\Users\\potyk\\PycharmProjects\\potyk-base\\.venv\\Lib\\site-packages\\IPython\\core\\ultratb.py\", line 792, in lines\n",
      "    return self._sd.lines\n",
      "           ^^^^^^^^^^^^^^\n",
      "  File \"C:\\Users\\potyk\\PycharmProjects\\potyk-base\\.venv\\Lib\\site-packages\\stack_data\\utils.py\", line 144, in cached_property_wrapper\n",
      "    value = obj.__dict__[self.func.__name__] = self.func(obj)\n",
      "                                               ^^^^^^^^^^^^^^\n",
      "  File \"C:\\Users\\potyk\\PycharmProjects\\potyk-base\\.venv\\Lib\\site-packages\\stack_data\\core.py\", line 734, in lines\n",
      "    pieces = self.included_pieces\n",
      "             ^^^^^^^^^^^^^^^^^^^^\n",
      "  File \"C:\\Users\\potyk\\PycharmProjects\\potyk-base\\.venv\\Lib\\site-packages\\stack_data\\utils.py\", line 144, in cached_property_wrapper\n",
      "    value = obj.__dict__[self.func.__name__] = self.func(obj)\n",
      "                                               ^^^^^^^^^^^^^^\n",
      "  File \"C:\\Users\\potyk\\PycharmProjects\\potyk-base\\.venv\\Lib\\site-packages\\stack_data\\core.py\", line 681, in included_pieces\n",
      "    pos = scope_pieces.index(self.executing_piece)\n",
      "                             ^^^^^^^^^^^^^^^^^^^^\n",
      "  File \"C:\\Users\\potyk\\PycharmProjects\\potyk-base\\.venv\\Lib\\site-packages\\stack_data\\utils.py\", line 144, in cached_property_wrapper\n",
      "    value = obj.__dict__[self.func.__name__] = self.func(obj)\n",
      "                                               ^^^^^^^^^^^^^^\n",
      "  File \"C:\\Users\\potyk\\PycharmProjects\\potyk-base\\.venv\\Lib\\site-packages\\stack_data\\core.py\", line 660, in executing_piece\n",
      "    return only(\n",
      "           ^^^^^\n",
      "  File \"C:\\Users\\potyk\\PycharmProjects\\potyk-base\\.venv\\Lib\\site-packages\\executing\\executing.py\", line 190, in only\n",
      "    raise NotOneValueFound('Expected one value, found 0')\n",
      "executing.executing.NotOneValueFound: Expected one value, found 0\n"
     ]
    }
   ],
   "source": [
    "while True:\n",
    "    make_random_portfolio()\n",
    "    time.sleep(4)"
   ],
   "metadata": {
    "collapsed": false,
    "ExecuteTime": {
     "end_time": "2023-06-08T10:02:08.009054600Z",
     "start_time": "2023-06-08T09:53:45.201091200Z"
    }
   }
  },
  {
   "cell_type": "code",
   "execution_count": 101,
   "outputs": [],
   "source": [
    "with open('portfolios.csv', 'w', ) as f:\n",
    "    f.write(\",\".join([*stocks, 'profit']) + '\\n')\n",
    "    for portfolio in portfolios:\n",
    "\n",
    "        portfolio_line = ','.join(map(str,[\n",
    "            portfolio['shares'].get(stock, 0)\n",
    "            for stock in stocks\n",
    "        ] + [portfolio['profit']]))\n",
    "        f.write(portfolio_line + '\\n')\n"
   ],
   "metadata": {
    "collapsed": false,
    "ExecuteTime": {
     "end_time": "2023-06-08T10:07:59.330906800Z",
     "start_time": "2023-06-08T10:07:59.299321600Z"
    }
   }
  },
  {
   "cell_type": "code",
   "execution_count": 104,
   "outputs": [
    {
     "name": "stdout",
     "output_type": "stream",
     "text": [
      "KRSBP.MCX\tROSN.MCX\tSTSBP.MCX\tRTKM.MCX\tMRKC.MCX\tTTLK.MCX\tBANE.MCX\tLKOH.MCX\tNVTK.MCX\tTATNP.MCX\tMSRS.MCX\tSNGS.MCX\tIRAO.MCX\tSIBN.MCX\tMDMG.MCX\tLSNGP.MCX\tKAZTP.MCX\n"
     ]
    }
   ],
   "source": [
    "print(*stocks[::-1], sep='\\t')"
   ],
   "metadata": {
    "collapsed": false,
    "ExecuteTime": {
     "end_time": "2023-06-08T10:11:56.471344100Z",
     "start_time": "2023-06-08T10:11:56.452289600Z"
    }
   }
  },
  {
   "cell_type": "code",
   "execution_count": 120,
   "outputs": [
    {
     "name": "stdout",
     "output_type": "stream",
     "text": [
      "=$AL$2+A2*$AK$2+B2*$AJ$2+C2*$AI$2+D2*$AH$2+E2*$AG$2+F2*$AF$2+G2*$AE$2+H2*$AD$2+I2*$AC$2+J2*$AB$2+K2*$AA$2+L2*$Z$2+M2*$Y$2+N2*$X$2+O2*$W$2+P2*$V$2+Q2*$U$2\n"
     ]
    }
   ],
   "source": [
    "import string\n",
    "\n",
    "cells = []\n",
    "\n",
    "for letter in reversed(string.ascii_uppercase):\n",
    "    if letter < 'L':\n",
    "        cell = \"$A\" + letter + \"$2\"\n",
    "        cells.append(cell)\n",
    "\n",
    "for letter in reversed(string.ascii_uppercase):\n",
    "    if letter > 'T':\n",
    "        cells.append(f\"${letter}$2\")\n",
    "\n",
    "formula = '=$AL$2'\n",
    "for letter, cell in zip(string.ascii_uppercase, cells):\n",
    "    formula += f\"+{letter}2*{cell}\"\n",
    "\n",
    "print(formula)\n",
    "\n"
   ],
   "metadata": {
    "collapsed": false,
    "ExecuteTime": {
     "end_time": "2023-06-08T10:16:46.547481800Z",
     "start_time": "2023-06-08T10:16:46.543343600Z"
    }
   }
  },
  {
   "cell_type": "code",
   "execution_count": null,
   "outputs": [],
   "source": [],
   "metadata": {
    "collapsed": false
   }
  }
 ],
 "metadata": {
  "kernelspec": {
   "display_name": "Python 3",
   "language": "python",
   "name": "python3"
  },
  "language_info": {
   "codemirror_mode": {
    "name": "ipython",
    "version": 2
   },
   "file_extension": ".py",
   "mimetype": "text/x-python",
   "name": "python",
   "nbconvert_exporter": "python",
   "pygments_lexer": "ipython2",
   "version": "2.7.6"
  }
 },
 "nbformat": 4,
 "nbformat_minor": 0
}
