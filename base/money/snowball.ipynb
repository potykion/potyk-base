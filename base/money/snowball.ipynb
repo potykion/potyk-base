{
 "cells": [
  {
   "cell_type": "code",
   "execution_count": 4,
   "metadata": {
    "collapsed": true,
    "ExecuteTime": {
     "end_time": "2023-08-21T13:18:52.854512300Z",
     "start_time": "2023-08-21T13:18:52.847036300Z"
    }
   },
   "outputs": [],
   "source": [
    "import json\n",
    "import random\n",
    "import string\n",
    "import time\n",
    "from collections import defaultdict\n",
    "\n",
    "from helium import *"
   ]
  },
  {
   "cell_type": "code",
   "execution_count": 5,
   "outputs": [],
   "source": [
    "driver = start_firefox()"
   ],
   "metadata": {
    "collapsed": false,
    "ExecuteTime": {
     "end_time": "2023-08-21T13:19:00.122088700Z",
     "start_time": "2023-08-21T13:18:53.961881300Z"
    }
   }
  },
  {
   "cell_type": "code",
   "execution_count": 12,
   "outputs": [],
   "source": [],
   "metadata": {
    "collapsed": false,
    "ExecuteTime": {
     "end_time": "2023-06-08T09:02:15.288807400Z",
     "start_time": "2023-06-08T09:02:14.510355500Z"
    }
   }
  },
  {
   "cell_type": "code",
   "execution_count": 14,
   "outputs": [],
   "source": [
    "write('20', into=TextField(to_right_of='KAZTP.MCX'))"
   ],
   "metadata": {
    "collapsed": false,
    "ExecuteTime": {
     "end_time": "2023-06-08T09:04:37.974787600Z",
     "start_time": "2023-06-08T09:04:37.427372600Z"
    }
   }
  },
  {
   "cell_type": "code",
   "execution_count": null,
   "outputs": [],
   "source": [],
   "metadata": {
    "collapsed": false
   }
  },
  {
   "cell_type": "code",
   "execution_count": 33,
   "outputs": [],
   "source": [
    "stocks = [\n",
    "  \"KAZTP.MCX\",\n",
    "  \"LSNGP.MCX\",\n",
    "  \"MDMG.MCX\",\n",
    "  \"SIBN.MCX\",\n",
    "  \"IRAO.MCX\",\n",
    "  \"SNGS.MCX\",\n",
    "  \"MSRS.MCX\",\n",
    "  \"TATNP.MCX\",\n",
    "  \"NVTK.MCX\",\n",
    "  \"LKOH.MCX\",\n",
    "  \"BANE.MCX\",\n",
    "  \"TTLK.MCX\",\n",
    "  \"MRKC.MCX\",\n",
    "  \"RTKM.MCX\",\n",
    "  \"STSBP.MCX\",\n",
    "  \"ROSN.MCX\",\n",
    "  \"KRSBP.MCX\"\n",
    "]"
   ],
   "metadata": {
    "collapsed": false,
    "ExecuteTime": {
     "end_time": "2023-08-21T14:34:59.603107600Z",
     "start_time": "2023-08-21T14:34:59.579983800Z"
    }
   }
  },
  {
   "cell_type": "code",
   "execution_count": 34,
   "outputs": [],
   "source": [
    "def make_shares(stocks):\n",
    "    shares = defaultdict(int)\n",
    "    remain_share = 100\n",
    "\n",
    "    stocks_to_randomize = stocks[::]\n",
    "\n",
    "    while True:\n",
    "        if not remain_share:\n",
    "            break\n",
    "\n",
    "        if not stocks_to_randomize:\n",
    "            stocks_to_randomize = stocks[::]\n",
    "\n",
    "        index = random.randint(0, len(stocks_to_randomize)-1)\n",
    "        stock = stocks_to_randomize.pop(index)\n",
    "        share = random.randint(0, min(remain_share, 50))\n",
    "        if share:\n",
    "            shares[stock] += share\n",
    "        remain_share -= share\n",
    "\n",
    "    assert sum(shares.values()) == 100\n",
    "    return dict(shares)"
   ],
   "metadata": {
    "collapsed": false,
    "ExecuteTime": {
     "end_time": "2023-08-21T14:35:02.165965500Z",
     "start_time": "2023-08-21T14:35:02.153572Z"
    }
   }
  },
  {
   "cell_type": "code",
   "execution_count": 35,
   "outputs": [],
   "source": [
    "with open(\"portfolios.json\", encoding='utf-8') as f:\n",
    "    portfolios = json.load(f)\n",
    "\n",
    "print(len(portfolios))"
   ],
   "metadata": {
    "collapsed": false,
    "ExecuteTime": {
     "end_time": "2023-08-21T14:35:04.992593900Z",
     "start_time": "2023-08-21T14:35:04.972572300Z"
    }
   }
  },
  {
   "cell_type": "code",
   "execution_count": 8,
   "outputs": [],
   "source": [
    "def make_random_portfolio():\n",
    "    # Распределение активов\n",
    "    share_details = S(\".col-xl-9 > div:nth-child(1) > div:nth-child(1) > div:nth-child(1)\")\n",
    "    click(share_details)\n",
    "\n",
    "    # Сбросить\n",
    "    reset = S(\"a.font-weight-bold:nth-child(2) > u:nth-child(1)\")\n",
    "    click(reset)\n",
    "\n",
    "    # Генерим и вводим доли\n",
    "    shares = make_shares(stocks)\n",
    "    print(json.dumps(shares))\n",
    "    for stock, share in shares.items():\n",
    "        write(str(share), into=TextField(to_right_of=stock))\n",
    "\n",
    "    # Рассчитать\n",
    "    doubleclick(S(\".btn-primary\"))\n",
    "    try:\n",
    "        profit = round(float(S(\"span.text-success:nth-child(3)\").web_element.text.replace(',', '.')[:-1]))\n",
    "    except LookupError:\n",
    "        profit = -round(float(S(\"span.text-danger:nth-child(3)\").web_element.text.replace(',', '.')[:-1]))\n",
    "    print(profit)\n",
    "\n",
    "    portfolio = {\"shares\": shares, \"profit\": profit}\n",
    "    print(json.dumps(portfolio))\n",
    "    portfolios.append(portfolio)\n",
    "    with open('portfolios.json', 'w', encoding='utf-8') as f:\n",
    "        f.write(json.dumps(portfolios, indent=2))"
   ],
   "metadata": {
    "collapsed": false,
    "ExecuteTime": {
     "end_time": "2023-08-21T13:31:47.411653900Z",
     "start_time": "2023-08-21T13:31:47.363621400Z"
    }
   }
  },
  {
   "cell_type": "code",
   "execution_count": 36,
   "outputs": [],
   "source": [
    "len(portfolios)"
   ],
   "metadata": {
    "collapsed": false,
    "ExecuteTime": {
     "end_time": "2023-08-21T14:35:07.461839Z",
     "start_time": "2023-08-21T14:35:07.446059300Z"
    }
   }
  },
  {
   "cell_type": "code",
   "execution_count": 27,
   "outputs": [
    {
     "data": {
      "text/plain": "38"
     },
     "execution_count": 27,
     "metadata": {},
     "output_type": "execute_result"
    }
   ],
   "source": [
    "while True:\n",
    "    make_random_portfolio()\n",
    "    time.sleep(4)"
   ],
   "metadata": {
    "collapsed": false,
    "ExecuteTime": {
     "end_time": "2023-08-21T13:57:52.843579300Z",
     "start_time": "2023-08-21T13:57:52.834900200Z"
    }
   }
  },
  {
   "cell_type": "code",
   "execution_count": 37,
   "outputs": [
    {
     "name": "stdout",
     "output_type": "stream",
     "text": [
      "{\"VTBR.MCX\": 7, \"PHOR.MCX\": 4, \"ROSN.MCX\": 11, \"TRNFP.MCX\": 47, \"OZON.MCX\": 10, \"POLY.MCX\": 9, \"SGZH.MCX\": 10, \"YNDX.MCX\": 1, \"TATNP.MCX\": 1}\n",
      "-7\n",
      "{\"shares\": {\"VTBR.MCX\": 7, \"PHOR.MCX\": 4, \"ROSN.MCX\": 11, \"TRNFP.MCX\": 47, \"OZON.MCX\": 10, \"POLY.MCX\": 9, \"SGZH.MCX\": 10, \"YNDX.MCX\": 1, \"TATNP.MCX\": 1}, \"profit\": -7}\n",
      "{\"TCSG.MCX\": 24, \"POLY.MCX\": 35, \"ROSN.MCX\": 5, \"RTKM.MCX\": 16, \"VKCO.MCX\": 9, \"OZON.MCX\": 9, \"TATNP.MCX\": 1, \"RUAL.MCX\": 1}\n",
      "-40\n",
      "{\"shares\": {\"TCSG.MCX\": 24, \"POLY.MCX\": 35, \"ROSN.MCX\": 5, \"RTKM.MCX\": 16, \"VKCO.MCX\": 9, \"OZON.MCX\": 9, \"TATNP.MCX\": 1, \"RUAL.MCX\": 1}, \"profit\": -40}\n",
      "{\"YNDX.MCX\": 14, \"POLY.MCX\": 14, \"PLZL.MCX\": 6, \"RUAL.MCX\": 30, \"PHOR.MCX\": 17, \"OZON.MCX\": 14, \"VKCO.MCX\": 5}\n",
      "-9\n",
      "{\"shares\": {\"YNDX.MCX\": 14, \"POLY.MCX\": 14, \"PLZL.MCX\": 6, \"RUAL.MCX\": 30, \"PHOR.MCX\": 17, \"OZON.MCX\": 14, \"VKCO.MCX\": 5}, \"profit\": -9}\n",
      "{\"PLZL.MCX\": 6, \"NLMK.MCX\": 11, \"RUAL.MCX\": 38, \"YNDX.MCX\": 43, \"VTBR.MCX\": 2}\n",
      "-33\n",
      "{\"shares\": {\"PLZL.MCX\": 6, \"NLMK.MCX\": 11, \"RUAL.MCX\": 38, \"YNDX.MCX\": 43, \"VTBR.MCX\": 2}, \"profit\": -33}\n",
      "{\"VKCO.MCX\": 8, \"TATNP.MCX\": 15, \"ROSN.MCX\": 3, \"PLZL.MCX\": 48, \"PHOR.MCX\": 25, \"YNDX.MCX\": 1}\n",
      "29\n",
      "{\"shares\": {\"VKCO.MCX\": 8, \"TATNP.MCX\": 15, \"ROSN.MCX\": 3, \"PLZL.MCX\": 48, \"PHOR.MCX\": 25, \"YNDX.MCX\": 1}, \"profit\": 29}\n",
      "{\"SGZH.MCX\": 33, \"TCSG.MCX\": 22, \"RUAL.MCX\": 23, \"VTBR.MCX\": 10, \"PHOR.MCX\": 4, \"PLZL.MCX\": 8}\n",
      "-16\n",
      "{\"shares\": {\"SGZH.MCX\": 33, \"TCSG.MCX\": 22, \"RUAL.MCX\": 23, \"VTBR.MCX\": 10, \"PHOR.MCX\": 4, \"PLZL.MCX\": 8}, \"profit\": -16}\n",
      "{\"OZON.MCX\": 3, \"YNDX.MCX\": 31, \"PHOR.MCX\": 29, \"PIKK.MCX\": 24, \"TCSG.MCX\": 8, \"VKCO.MCX\": 2, \"PLZL.MCX\": 1, \"TATNP.MCX\": 1, \"TRNFP.MCX\": 1}\n",
      "18\n",
      "{\"shares\": {\"OZON.MCX\": 3, \"YNDX.MCX\": 31, \"PHOR.MCX\": 29, \"PIKK.MCX\": 24, \"TCSG.MCX\": 8, \"VKCO.MCX\": 2, \"PLZL.MCX\": 1, \"TATNP.MCX\": 1, \"TRNFP.MCX\": 1}, \"profit\": 18}\n",
      "{\"SGZH.MCX\": 50, \"NVTK.MCX\": 42, \"OZON.MCX\": 5, \"PHOR.MCX\": 1, \"TCSG.MCX\": 2}\n",
      "6\n",
      "{\"shares\": {\"SGZH.MCX\": 50, \"NVTK.MCX\": 42, \"OZON.MCX\": 5, \"PHOR.MCX\": 1, \"TCSG.MCX\": 2}, \"profit\": 6}\n",
      "{\"SGZH.MCX\": 15, \"SNGSP.MCX\": 47, \"RUAL.MCX\": 13, \"VTBR.MCX\": 1, \"VKCO.MCX\": 23, \"PHOR.MCX\": 1}\n",
      "5\n",
      "{\"shares\": {\"SGZH.MCX\": 15, \"SNGSP.MCX\": 47, \"RUAL.MCX\": 13, \"VTBR.MCX\": 1, \"VKCO.MCX\": 23, \"PHOR.MCX\": 1}, \"profit\": 5}\n",
      "{\"RTKM.MCX\": 14, \"PIKK.MCX\": 38, \"NVTK.MCX\": 26, \"RUAL.MCX\": 4, \"TATNP.MCX\": 12, \"ROSN.MCX\": 1, \"PLZL.MCX\": 4, \"VTBR.MCX\": 1}\n",
      "8\n",
      "{\"shares\": {\"RTKM.MCX\": 14, \"PIKK.MCX\": 38, \"NVTK.MCX\": 26, \"RUAL.MCX\": 4, \"TATNP.MCX\": 12, \"ROSN.MCX\": 1, \"PLZL.MCX\": 4, \"VTBR.MCX\": 1}, \"profit\": 8}\n",
      "{\"ROSN.MCX\": 23, \"VTBR.MCX\": 37, \"PLZL.MCX\": 15, \"NVTK.MCX\": 22, \"POLY.MCX\": 2, \"TCSG.MCX\": 1}\n",
      "-9\n",
      "{\"shares\": {\"ROSN.MCX\": 23, \"VTBR.MCX\": 37, \"PLZL.MCX\": 15, \"NVTK.MCX\": 22, \"POLY.MCX\": 2, \"TCSG.MCX\": 1}, \"profit\": -9}\n",
      "{\"SGZH.MCX\": 4, \"RUAL.MCX\": 34, \"PIKK.MCX\": 39, \"POLY.MCX\": 7, \"NVTK.MCX\": 4, \"PLZL.MCX\": 10, \"TATNP.MCX\": 1, \"OZON.MCX\": 1}\n",
      "-15\n",
      "{\"shares\": {\"SGZH.MCX\": 4, \"RUAL.MCX\": 34, \"PIKK.MCX\": 39, \"POLY.MCX\": 7, \"NVTK.MCX\": 4, \"PLZL.MCX\": 10, \"TATNP.MCX\": 1, \"OZON.MCX\": 1}, \"profit\": -15}\n",
      "{\"TCSG.MCX\": 12, \"PHOR.MCX\": 48, \"RTKM.MCX\": 7, \"NLMK.MCX\": 11, \"PLZL.MCX\": 5, \"SNGSP.MCX\": 13, \"TATNP.MCX\": 2, \"YNDX.MCX\": 1, \"POLY.MCX\": 1}\n",
      "65\n",
      "{\"shares\": {\"TCSG.MCX\": 12, \"PHOR.MCX\": 48, \"RTKM.MCX\": 7, \"NLMK.MCX\": 11, \"PLZL.MCX\": 5, \"SNGSP.MCX\": 13, \"TATNP.MCX\": 2, \"YNDX.MCX\": 1, \"POLY.MCX\": 1}, \"profit\": 65}\n",
      "{\"TATNP.MCX\": 18, \"OZON.MCX\": 42, \"PLZL.MCX\": 18, \"YNDX.MCX\": 6, \"SBERP.MCX\": 5, \"TRNFP.MCX\": 3, \"VKCO.MCX\": 7, \"SGZH.MCX\": 1}\n",
      "-19\n",
      "{\"shares\": {\"TATNP.MCX\": 18, \"OZON.MCX\": 42, \"PLZL.MCX\": 18, \"YNDX.MCX\": 6, \"SBERP.MCX\": 5, \"TRNFP.MCX\": 3, \"VKCO.MCX\": 7, \"SGZH.MCX\": 1}, \"profit\": -19}\n",
      "{\"PIKK.MCX\": 41, \"OZON.MCX\": 49, \"SNGSP.MCX\": 9, \"TCSG.MCX\": 1}\n",
      "-21\n",
      "{\"shares\": {\"PIKK.MCX\": 41, \"OZON.MCX\": 49, \"SNGSP.MCX\": 9, \"TCSG.MCX\": 1}, \"profit\": -21}\n",
      "{\"PIKK.MCX\": 22, \"NLMK.MCX\": 30, \"PHOR.MCX\": 5, \"SBERP.MCX\": 21, \"VTBR.MCX\": 4, \"TCSG.MCX\": 5, \"OZON.MCX\": 6, \"ROSN.MCX\": 1, \"RTKM.MCX\": 3, \"NVTK.MCX\": 2, \"PLZL.MCX\": 1}\n",
      "-5\n",
      "{\"shares\": {\"PIKK.MCX\": 22, \"NLMK.MCX\": 30, \"PHOR.MCX\": 5, \"SBERP.MCX\": 21, \"VTBR.MCX\": 4, \"TCSG.MCX\": 5, \"OZON.MCX\": 6, \"ROSN.MCX\": 1, \"RTKM.MCX\": 3, \"NVTK.MCX\": 2, \"PLZL.MCX\": 1}, \"profit\": -5}\n",
      "{\"POLY.MCX\": 9, \"PLZL.MCX\": 28, \"TATNP.MCX\": 14, \"VKCO.MCX\": 5, \"OZON.MCX\": 18, \"VTBR.MCX\": 21, \"PHOR.MCX\": 4, \"SBERP.MCX\": 1}\n",
      "-19\n",
      "{\"shares\": {\"POLY.MCX\": 9, \"PLZL.MCX\": 28, \"TATNP.MCX\": 14, \"VKCO.MCX\": 5, \"OZON.MCX\": 18, \"VTBR.MCX\": 21, \"PHOR.MCX\": 4, \"SBERP.MCX\": 1}, \"profit\": -19}\n",
      "{\"OZON.MCX\": 16, \"NLMK.MCX\": 33, \"POLY.MCX\": 2, \"ROSN.MCX\": 5, \"YNDX.MCX\": 44}\n",
      "-35\n",
      "{\"shares\": {\"OZON.MCX\": 16, \"NLMK.MCX\": 33, \"POLY.MCX\": 2, \"ROSN.MCX\": 5, \"YNDX.MCX\": 44}, \"profit\": -35}\n",
      "{\"VKCO.MCX\": 32, \"TCSG.MCX\": 13, \"OZON.MCX\": 4, \"RUAL.MCX\": 28, \"PHOR.MCX\": 2, \"RTKM.MCX\": 3, \"TATNP.MCX\": 7, \"VTBR.MCX\": 5, \"ROSN.MCX\": 4, \"PLZL.MCX\": 2}\n",
      "-25\n",
      "{\"shares\": {\"VKCO.MCX\": 32, \"TCSG.MCX\": 13, \"OZON.MCX\": 4, \"RUAL.MCX\": 28, \"PHOR.MCX\": 2, \"RTKM.MCX\": 3, \"TATNP.MCX\": 7, \"VTBR.MCX\": 5, \"ROSN.MCX\": 4, \"PLZL.MCX\": 2}, \"profit\": -25}\n",
      "{\"VTBR.MCX\": 6, \"POLY.MCX\": 19, \"TRNFP.MCX\": 24, \"SGZH.MCX\": 6, \"RTKM.MCX\": 19, \"VKCO.MCX\": 21, \"SNGSP.MCX\": 5}\n",
      "-31\n",
      "{\"shares\": {\"VTBR.MCX\": 6, \"POLY.MCX\": 19, \"TRNFP.MCX\": 24, \"SGZH.MCX\": 6, \"RTKM.MCX\": 19, \"VKCO.MCX\": 21, \"SNGSP.MCX\": 5}, \"profit\": -31}\n",
      "{\"RUAL.MCX\": 42, \"ROSN.MCX\": 20, \"TATNP.MCX\": 5, \"SNGSP.MCX\": 5, \"RTKM.MCX\": 23, \"POLY.MCX\": 5}\n",
      "-7\n",
      "{\"shares\": {\"RUAL.MCX\": 42, \"ROSN.MCX\": 20, \"TATNP.MCX\": 5, \"SNGSP.MCX\": 5, \"RTKM.MCX\": 23, \"POLY.MCX\": 5}, \"profit\": -7}\n",
      "{\"PHOR.MCX\": 27, \"SGZH.MCX\": 18, \"TRNFP.MCX\": 39, \"SNGSP.MCX\": 11, \"PIKK.MCX\": 1, \"VTBR.MCX\": 1, \"OZON.MCX\": 3}\n",
      "38\n",
      "{\"shares\": {\"PHOR.MCX\": 27, \"SGZH.MCX\": 18, \"TRNFP.MCX\": 39, \"SNGSP.MCX\": 11, \"PIKK.MCX\": 1, \"VTBR.MCX\": 1, \"OZON.MCX\": 3}, \"profit\": 38}\n",
      "{\"SGZH.MCX\": 49, \"VTBR.MCX\": 8, \"SNGSP.MCX\": 15, \"PHOR.MCX\": 11, \"POLY.MCX\": 1, \"TCSG.MCX\": 10, \"ROSN.MCX\": 5, \"SBERP.MCX\": 1}\n",
      "8\n",
      "{\"shares\": {\"SGZH.MCX\": 49, \"VTBR.MCX\": 8, \"SNGSP.MCX\": 15, \"PHOR.MCX\": 11, \"POLY.MCX\": 1, \"TCSG.MCX\": 10, \"ROSN.MCX\": 5, \"SBERP.MCX\": 1}, \"profit\": 8}\n",
      "{\"VTBR.MCX\": 48, \"VKCO.MCX\": 33, \"SBERP.MCX\": 14, \"NVTK.MCX\": 4, \"SNGSP.MCX\": 1}\n",
      "-41\n",
      "{\"shares\": {\"VTBR.MCX\": 48, \"VKCO.MCX\": 33, \"SBERP.MCX\": 14, \"NVTK.MCX\": 4, \"SNGSP.MCX\": 1}, \"profit\": -41}\n",
      "{\"OZON.MCX\": 19, \"POLY.MCX\": 23, \"SGZH.MCX\": 3, \"PLZL.MCX\": 21, \"ROSN.MCX\": 7, \"TCSG.MCX\": 15, \"NLMK.MCX\": 10, \"YNDX.MCX\": 2}\n",
      "-33\n",
      "{\"shares\": {\"OZON.MCX\": 19, \"POLY.MCX\": 23, \"SGZH.MCX\": 3, \"PLZL.MCX\": 21, \"ROSN.MCX\": 7, \"TCSG.MCX\": 15, \"NLMK.MCX\": 10, \"YNDX.MCX\": 2}, \"profit\": -33}\n",
      "{\"ROSN.MCX\": 24, \"PLZL.MCX\": 8, \"SBERP.MCX\": 14, \"YNDX.MCX\": 16, \"SNGSP.MCX\": 26, \"OZON.MCX\": 5, \"TRNFP.MCX\": 2, \"RUAL.MCX\": 1, \"RTKM.MCX\": 4}\n",
      "5\n",
      "{\"shares\": {\"ROSN.MCX\": 24, \"PLZL.MCX\": 8, \"SBERP.MCX\": 14, \"YNDX.MCX\": 16, \"SNGSP.MCX\": 26, \"OZON.MCX\": 5, \"TRNFP.MCX\": 2, \"RUAL.MCX\": 1, \"RTKM.MCX\": 4}, \"profit\": 5}\n",
      "{\"TRNFP.MCX\": 32, \"SNGSP.MCX\": 42, \"SGZH.MCX\": 17, \"TATNP.MCX\": 5, \"PHOR.MCX\": 2, \"VKCO.MCX\": 1, \"NLMK.MCX\": 1}\n",
      "22\n",
      "{\"shares\": {\"TRNFP.MCX\": 32, \"SNGSP.MCX\": 42, \"SGZH.MCX\": 17, \"TATNP.MCX\": 5, \"PHOR.MCX\": 2, \"VKCO.MCX\": 1, \"NLMK.MCX\": 1}, \"profit\": 22}\n",
      "{\"POLY.MCX\": 4, \"RUAL.MCX\": 6, \"ROSN.MCX\": 1, \"TRNFP.MCX\": 29, \"NLMK.MCX\": 44, \"SBERP.MCX\": 14, \"PLZL.MCX\": 1, \"VTBR.MCX\": 1}\n",
      "-11\n",
      "{\"shares\": {\"POLY.MCX\": 4, \"RUAL.MCX\": 6, \"ROSN.MCX\": 1, \"TRNFP.MCX\": 29, \"NLMK.MCX\": 44, \"SBERP.MCX\": 14, \"PLZL.MCX\": 1, \"VTBR.MCX\": 1}, \"profit\": -11}\n",
      "{\"NLMK.MCX\": 22, \"NVTK.MCX\": 13, \"PHOR.MCX\": 43, \"PLZL.MCX\": 3, \"RUAL.MCX\": 14, \"PIKK.MCX\": 1, \"TATNP.MCX\": 3, \"POLY.MCX\": 1}\n",
      "58\n",
      "{\"shares\": {\"NLMK.MCX\": 22, \"NVTK.MCX\": 13, \"PHOR.MCX\": 43, \"PLZL.MCX\": 3, \"RUAL.MCX\": 14, \"PIKK.MCX\": 1, \"TATNP.MCX\": 3, \"POLY.MCX\": 1}, \"profit\": 58}\n",
      "{\"PLZL.MCX\": 25, \"SBERP.MCX\": 18, \"NVTK.MCX\": 22, \"VKCO.MCX\": 10, \"TCSG.MCX\": 13, \"YNDX.MCX\": 3, \"ROSN.MCX\": 8, \"PHOR.MCX\": 1}\n",
      "-3\n",
      "{\"shares\": {\"PLZL.MCX\": 25, \"SBERP.MCX\": 18, \"NVTK.MCX\": 22, \"VKCO.MCX\": 10, \"TCSG.MCX\": 13, \"YNDX.MCX\": 3, \"ROSN.MCX\": 8, \"PHOR.MCX\": 1}, \"profit\": -3}\n",
      "{\"RTKM.MCX\": 46, \"TATNP.MCX\": 34, \"TRNFP.MCX\": 20}\n",
      "8\n",
      "{\"shares\": {\"RTKM.MCX\": 46, \"TATNP.MCX\": 34, \"TRNFP.MCX\": 20}, \"profit\": 8}\n",
      "{\"SNGSP.MCX\": 29, \"RUAL.MCX\": 46, \"NVTK.MCX\": 13, \"ROSN.MCX\": 9, \"RTKM.MCX\": 1, \"SBERP.MCX\": 2}\n",
      "12\n",
      "{\"shares\": {\"SNGSP.MCX\": 29, \"RUAL.MCX\": 46, \"NVTK.MCX\": 13, \"ROSN.MCX\": 9, \"RTKM.MCX\": 1, \"SBERP.MCX\": 2}, \"profit\": 12}\n",
      "{\"SGZH.MCX\": 46, \"PHOR.MCX\": 33, \"RUAL.MCX\": 10, \"POLY.MCX\": 8, \"SNGSP.MCX\": 3}\n",
      "31\n",
      "{\"shares\": {\"SGZH.MCX\": 46, \"PHOR.MCX\": 33, \"RUAL.MCX\": 10, \"POLY.MCX\": 8, \"SNGSP.MCX\": 3}, \"profit\": 31}\n",
      "{\"NLMK.MCX\": 45, \"PIKK.MCX\": 46, \"SNGSP.MCX\": 3, \"ROSN.MCX\": 6}\n",
      "-9\n",
      "{\"shares\": {\"NLMK.MCX\": 45, \"PIKK.MCX\": 46, \"SNGSP.MCX\": 3, \"ROSN.MCX\": 6}, \"profit\": -9}\n",
      "{\"ROSN.MCX\": 24, \"PHOR.MCX\": 36, \"POLY.MCX\": 16, \"NLMK.MCX\": 20, \"OZON.MCX\": 4}\n",
      "39\n",
      "{\"shares\": {\"ROSN.MCX\": 24, \"PHOR.MCX\": 36, \"POLY.MCX\": 16, \"NLMK.MCX\": 20, \"OZON.MCX\": 4}, \"profit\": 39}\n",
      "{\"VKCO.MCX\": 19, \"NLMK.MCX\": 34, \"SGZH.MCX\": 5, \"POLY.MCX\": 7, \"ROSN.MCX\": 35}\n",
      "-16\n",
      "{\"shares\": {\"VKCO.MCX\": 19, \"NLMK.MCX\": 34, \"SGZH.MCX\": 5, \"POLY.MCX\": 7, \"ROSN.MCX\": 35}, \"profit\": -16}\n",
      "{\"ROSN.MCX\": 28, \"TCSG.MCX\": 42, \"PLZL.MCX\": 26, \"PHOR.MCX\": 2, \"YNDX.MCX\": 2}\n",
      "-7\n",
      "{\"shares\": {\"ROSN.MCX\": 28, \"TCSG.MCX\": 42, \"PLZL.MCX\": 26, \"PHOR.MCX\": 2, \"YNDX.MCX\": 2}, \"profit\": -7}\n",
      "{\"TATNP.MCX\": 7, \"NVTK.MCX\": 38, \"VKCO.MCX\": 32, \"VTBR.MCX\": 13, \"SGZH.MCX\": 2, \"YNDX.MCX\": 7, \"SNGSP.MCX\": 1}\n",
      "-11\n",
      "{\"shares\": {\"TATNP.MCX\": 7, \"NVTK.MCX\": 38, \"VKCO.MCX\": 32, \"VTBR.MCX\": 13, \"SGZH.MCX\": 2, \"YNDX.MCX\": 7, \"SNGSP.MCX\": 1}, \"profit\": -11}\n",
      "{\"SBERP.MCX\": 3, \"VKCO.MCX\": 39, \"YNDX.MCX\": 15, \"OZON.MCX\": 40, \"TCSG.MCX\": 2, \"PHOR.MCX\": 1}\n",
      "-47\n",
      "{\"shares\": {\"SBERP.MCX\": 3, \"VKCO.MCX\": 39, \"YNDX.MCX\": 15, \"OZON.MCX\": 40, \"TCSG.MCX\": 2, \"PHOR.MCX\": 1}, \"profit\": -47}\n",
      "{\"VKCO.MCX\": 35, \"PIKK.MCX\": 3, \"SGZH.MCX\": 42, \"TCSG.MCX\": 7, \"TRNFP.MCX\": 5, \"RUAL.MCX\": 8}\n",
      "-32\n",
      "{\"shares\": {\"VKCO.MCX\": 35, \"PIKK.MCX\": 3, \"SGZH.MCX\": 42, \"TCSG.MCX\": 7, \"TRNFP.MCX\": 5, \"RUAL.MCX\": 8}, \"profit\": -32}\n",
      "{\"VTBR.MCX\": 50, \"YNDX.MCX\": 7, \"PLZL.MCX\": 15, \"TRNFP.MCX\": 14, \"SNGSP.MCX\": 11, \"RUAL.MCX\": 2, \"NLMK.MCX\": 1}\n",
      "-26\n",
      "{\"shares\": {\"VTBR.MCX\": 50, \"YNDX.MCX\": 7, \"PLZL.MCX\": 15, \"TRNFP.MCX\": 14, \"SNGSP.MCX\": 11, \"RUAL.MCX\": 2, \"NLMK.MCX\": 1}, \"profit\": -26}\n",
      "{\"NVTK.MCX\": 4, \"RUAL.MCX\": 44, \"NLMK.MCX\": 36, \"SNGSP.MCX\": 3, \"YNDX.MCX\": 12, \"OZON.MCX\": 1}\n",
      "-18\n",
      "{\"shares\": {\"NVTK.MCX\": 4, \"RUAL.MCX\": 44, \"NLMK.MCX\": 36, \"SNGSP.MCX\": 3, \"YNDX.MCX\": 12, \"OZON.MCX\": 1}, \"profit\": -18}\n",
      "{\"VTBR.MCX\": 37, \"TATNP.MCX\": 15, \"ROSN.MCX\": 36, \"SBERP.MCX\": 4, \"RUAL.MCX\": 4, \"TCSG.MCX\": 3, \"RTKM.MCX\": 1}\n",
      "-4\n",
      "{\"shares\": {\"VTBR.MCX\": 37, \"TATNP.MCX\": 15, \"ROSN.MCX\": 36, \"SBERP.MCX\": 4, \"RUAL.MCX\": 4, \"TCSG.MCX\": 3, \"RTKM.MCX\": 1}, \"profit\": -4}\n",
      "{\"RUAL.MCX\": 18, \"RTKM.MCX\": 4, \"TRNFP.MCX\": 2, \"PLZL.MCX\": 44, \"SNGSP.MCX\": 13, \"PHOR.MCX\": 17, \"OZON.MCX\": 2}\n",
      "17\n",
      "{\"shares\": {\"RUAL.MCX\": 18, \"RTKM.MCX\": 4, \"TRNFP.MCX\": 2, \"PLZL.MCX\": 44, \"SNGSP.MCX\": 13, \"PHOR.MCX\": 17, \"OZON.MCX\": 2}, \"profit\": 17}\n",
      "{\"VKCO.MCX\": 1, \"RTKM.MCX\": 40, \"SBERP.MCX\": 6, \"NVTK.MCX\": 6, \"ROSN.MCX\": 21, \"PIKK.MCX\": 8, \"TATNP.MCX\": 18}\n",
      "6\n",
      "{\"shares\": {\"VKCO.MCX\": 1, \"RTKM.MCX\": 40, \"SBERP.MCX\": 6, \"NVTK.MCX\": 6, \"ROSN.MCX\": 21, \"PIKK.MCX\": 8, \"TATNP.MCX\": 18}, \"profit\": 6}\n",
      "{\"ROSN.MCX\": 37, \"PIKK.MCX\": 27, \"SGZH.MCX\": 20, \"TATNP.MCX\": 5, \"NLMK.MCX\": 2, \"NVTK.MCX\": 5, \"RUAL.MCX\": 3, \"VTBR.MCX\": 1}\n",
      "4\n",
      "{\"shares\": {\"ROSN.MCX\": 37, \"PIKK.MCX\": 27, \"SGZH.MCX\": 20, \"TATNP.MCX\": 5, \"NLMK.MCX\": 2, \"NVTK.MCX\": 5, \"RUAL.MCX\": 3, \"VTBR.MCX\": 1}, \"profit\": 4}\n",
      "{\"ROSN.MCX\": 20, \"POLY.MCX\": 7, \"SNGSP.MCX\": 28, \"VTBR.MCX\": 39, \"RUAL.MCX\": 2, \"PLZL.MCX\": 2, \"OZON.MCX\": 1, \"TRNFP.MCX\": 1}\n",
      "-7\n",
      "{\"shares\": {\"ROSN.MCX\": 20, \"POLY.MCX\": 7, \"SNGSP.MCX\": 28, \"VTBR.MCX\": 39, \"RUAL.MCX\": 2, \"PLZL.MCX\": 2, \"OZON.MCX\": 1, \"TRNFP.MCX\": 1}, \"profit\": -7}\n",
      "{\"RTKM.MCX\": 26, \"ROSN.MCX\": 27, \"POLY.MCX\": 31, \"VKCO.MCX\": 15, \"TRNFP.MCX\": 1}\n",
      "-30\n",
      "{\"shares\": {\"RTKM.MCX\": 26, \"ROSN.MCX\": 27, \"POLY.MCX\": 31, \"VKCO.MCX\": 15, \"TRNFP.MCX\": 1}, \"profit\": -30}\n",
      "{\"TRNFP.MCX\": 27, \"TCSG.MCX\": 9, \"SNGSP.MCX\": 6, \"YNDX.MCX\": 14, \"VTBR.MCX\": 30, \"RUAL.MCX\": 4, \"NLMK.MCX\": 4, \"PIKK.MCX\": 3, \"SBERP.MCX\": 1, \"OZON.MCX\": 1, \"PHOR.MCX\": 1}\n",
      "-21\n",
      "{\"shares\": {\"TRNFP.MCX\": 27, \"TCSG.MCX\": 9, \"SNGSP.MCX\": 6, \"YNDX.MCX\": 14, \"VTBR.MCX\": 30, \"RUAL.MCX\": 4, \"NLMK.MCX\": 4, \"PIKK.MCX\": 3, \"SBERP.MCX\": 1, \"OZON.MCX\": 1, \"PHOR.MCX\": 1}, \"profit\": -21}\n",
      "{\"POLY.MCX\": 35, \"SGZH.MCX\": 4, \"PIKK.MCX\": 20, \"OZON.MCX\": 22, \"RUAL.MCX\": 13, \"TATNP.MCX\": 3, \"VKCO.MCX\": 3}\n",
      "-38\n",
      "{\"shares\": {\"POLY.MCX\": 35, \"SGZH.MCX\": 4, \"PIKK.MCX\": 20, \"OZON.MCX\": 22, \"RUAL.MCX\": 13, \"TATNP.MCX\": 3, \"VKCO.MCX\": 3}, \"profit\": -38}\n",
      "{\"NLMK.MCX\": 48, \"PLZL.MCX\": 40, \"RUAL.MCX\": 3, \"RTKM.MCX\": 9}\n",
      "-19\n",
      "{\"shares\": {\"NLMK.MCX\": 48, \"PLZL.MCX\": 40, \"RUAL.MCX\": 3, \"RTKM.MCX\": 9}, \"profit\": -19}\n",
      "{\"NVTK.MCX\": 30, \"NLMK.MCX\": 21, \"TRNFP.MCX\": 29, \"PLZL.MCX\": 3, \"PIKK.MCX\": 4, \"VKCO.MCX\": 1, \"SGZH.MCX\": 2, \"POLY.MCX\": 7, \"OZON.MCX\": 1, \"YNDX.MCX\": 1, \"RUAL.MCX\": 1}\n",
      "0\n",
      "{\"shares\": {\"NVTK.MCX\": 30, \"NLMK.MCX\": 21, \"TRNFP.MCX\": 29, \"PLZL.MCX\": 3, \"PIKK.MCX\": 4, \"VKCO.MCX\": 1, \"SGZH.MCX\": 2, \"POLY.MCX\": 7, \"OZON.MCX\": 1, \"YNDX.MCX\": 1, \"RUAL.MCX\": 1}, \"profit\": 0}\n",
      "{\"PHOR.MCX\": 32, \"RTKM.MCX\": 49, \"VKCO.MCX\": 12, \"SNGSP.MCX\": 1, \"NVTK.MCX\": 4, \"TCSG.MCX\": 2}\n",
      "27\n",
      "{\"shares\": {\"PHOR.MCX\": 32, \"RTKM.MCX\": 49, \"VKCO.MCX\": 12, \"SNGSP.MCX\": 1, \"NVTK.MCX\": 4, \"TCSG.MCX\": 2}, \"profit\": 27}\n",
      "{\"YNDX.MCX\": 28, \"RUAL.MCX\": 29, \"VKCO.MCX\": 40, \"POLY.MCX\": 1, \"TATNP.MCX\": 1, \"PIKK.MCX\": 1}\n",
      "-44\n",
      "{\"shares\": {\"YNDX.MCX\": 28, \"RUAL.MCX\": 29, \"VKCO.MCX\": 40, \"POLY.MCX\": 1, \"TATNP.MCX\": 1, \"PIKK.MCX\": 1}, \"profit\": -44}\n",
      "{\"TATNP.MCX\": 46, \"VTBR.MCX\": 48, \"OZON.MCX\": 5, \"PIKK.MCX\": 1}\n",
      "-1\n",
      "{\"shares\": {\"TATNP.MCX\": 46, \"VTBR.MCX\": 48, \"OZON.MCX\": 5, \"PIKK.MCX\": 1}, \"profit\": -1}\n",
      "{\"YNDX.MCX\": 1, \"TCSG.MCX\": 4, \"OZON.MCX\": 46, \"POLY.MCX\": 5, \"TATNP.MCX\": 30, \"SGZH.MCX\": 6, \"NVTK.MCX\": 7, \"PLZL.MCX\": 1}\n",
      "-7\n",
      "{\"shares\": {\"YNDX.MCX\": 1, \"TCSG.MCX\": 4, \"OZON.MCX\": 46, \"POLY.MCX\": 5, \"TATNP.MCX\": 30, \"SGZH.MCX\": 6, \"NVTK.MCX\": 7, \"PLZL.MCX\": 1}, \"profit\": -7}\n",
      "{\"OZON.MCX\": 29, \"ROSN.MCX\": 39, \"NLMK.MCX\": 22, \"PLZL.MCX\": 3, \"PIKK.MCX\": 7}\n",
      "-10\n",
      "{\"shares\": {\"OZON.MCX\": 29, \"ROSN.MCX\": 39, \"NLMK.MCX\": 22, \"PLZL.MCX\": 3, \"PIKK.MCX\": 7}, \"profit\": -10}\n",
      "{\"YNDX.MCX\": 30, \"PIKK.MCX\": 39, \"SBERP.MCX\": 12, \"TCSG.MCX\": 14, \"PLZL.MCX\": 1, \"POLY.MCX\": 2, \"VKCO.MCX\": 2}\n",
      "-24\n",
      "{\"shares\": {\"YNDX.MCX\": 30, \"PIKK.MCX\": 39, \"SBERP.MCX\": 12, \"TCSG.MCX\": 14, \"PLZL.MCX\": 1, \"POLY.MCX\": 2, \"VKCO.MCX\": 2}, \"profit\": -24}\n",
      "{\"ROSN.MCX\": 19, \"VTBR.MCX\": 15, \"YNDX.MCX\": 44, \"PHOR.MCX\": 8, \"PIKK.MCX\": 12, \"NLMK.MCX\": 1, \"SBERP.MCX\": 1}\n",
      "-16\n",
      "{\"shares\": {\"ROSN.MCX\": 19, \"VTBR.MCX\": 15, \"YNDX.MCX\": 44, \"PHOR.MCX\": 8, \"PIKK.MCX\": 12, \"NLMK.MCX\": 1, \"SBERP.MCX\": 1}, \"profit\": -16}\n",
      "{\"TCSG.MCX\": 1, \"TRNFP.MCX\": 8, \"TATNP.MCX\": 32, \"SGZH.MCX\": 35, \"ROSN.MCX\": 8, \"OZON.MCX\": 1, \"POLY.MCX\": 7, \"YNDX.MCX\": 6, \"PIKK.MCX\": 1, \"SBERP.MCX\": 1}\n",
      "4\n",
      "{\"shares\": {\"TCSG.MCX\": 1, \"TRNFP.MCX\": 8, \"TATNP.MCX\": 32, \"SGZH.MCX\": 35, \"ROSN.MCX\": 8, \"OZON.MCX\": 1, \"POLY.MCX\": 7, \"YNDX.MCX\": 6, \"PIKK.MCX\": 1, \"SBERP.MCX\": 1}, \"profit\": 4}\n",
      "{\"OZON.MCX\": 8, \"PHOR.MCX\": 31, \"POLY.MCX\": 3, \"PIKK.MCX\": 46, \"YNDX.MCX\": 3, \"SBERP.MCX\": 9}\n",
      "32\n",
      "{\"shares\": {\"OZON.MCX\": 8, \"PHOR.MCX\": 31, \"POLY.MCX\": 3, \"PIKK.MCX\": 46, \"YNDX.MCX\": 3, \"SBERP.MCX\": 9}, \"profit\": 32}\n",
      "{\"SBERP.MCX\": 19, \"RTKM.MCX\": 6, \"NLMK.MCX\": 24, \"NVTK.MCX\": 35, \"SGZH.MCX\": 15, \"ROSN.MCX\": 1}\n",
      "6\n",
      "{\"shares\": {\"SBERP.MCX\": 19, \"RTKM.MCX\": 6, \"NLMK.MCX\": 24, \"NVTK.MCX\": 35, \"SGZH.MCX\": 15, \"ROSN.MCX\": 1}, \"profit\": 6}\n",
      "{\"RUAL.MCX\": 38, \"SBERP.MCX\": 15, \"TATNP.MCX\": 36, \"TCSG.MCX\": 4, \"RTKM.MCX\": 4, \"NVTK.MCX\": 2, \"PLZL.MCX\": 1}\n",
      "11\n",
      "{\"shares\": {\"RUAL.MCX\": 38, \"SBERP.MCX\": 15, \"TATNP.MCX\": 36, \"TCSG.MCX\": 4, \"RTKM.MCX\": 4, \"NVTK.MCX\": 2, \"PLZL.MCX\": 1}, \"profit\": 11}\n",
      "{\"SGZH.MCX\": 35, \"SBERP.MCX\": 15, \"TRNFP.MCX\": 33, \"VTBR.MCX\": 12, \"OZON.MCX\": 1, \"YNDX.MCX\": 1, \"PHOR.MCX\": 2, \"TCSG.MCX\": 1}\n",
      "-10\n",
      "{\"shares\": {\"SGZH.MCX\": 35, \"SBERP.MCX\": 15, \"TRNFP.MCX\": 33, \"VTBR.MCX\": 12, \"OZON.MCX\": 1, \"YNDX.MCX\": 1, \"PHOR.MCX\": 2, \"TCSG.MCX\": 1}, \"profit\": -10}\n",
      "{\"POLY.MCX\": 10, \"PLZL.MCX\": 1, \"RUAL.MCX\": 20, \"PHOR.MCX\": 15, \"VKCO.MCX\": 20, \"ROSN.MCX\": 29, \"YNDX.MCX\": 5}\n",
      "1\n",
      "{\"shares\": {\"POLY.MCX\": 10, \"PLZL.MCX\": 1, \"RUAL.MCX\": 20, \"PHOR.MCX\": 15, \"VKCO.MCX\": 20, \"ROSN.MCX\": 29, \"YNDX.MCX\": 5}, \"profit\": 1}\n",
      "{\"NVTK.MCX\": 25, \"TCSG.MCX\": 2, \"NLMK.MCX\": 35, \"VKCO.MCX\": 24, \"RUAL.MCX\": 3, \"PHOR.MCX\": 4, \"YNDX.MCX\": 7}\n",
      "-10\n",
      "{\"shares\": {\"NVTK.MCX\": 25, \"TCSG.MCX\": 2, \"NLMK.MCX\": 35, \"VKCO.MCX\": 24, \"RUAL.MCX\": 3, \"PHOR.MCX\": 4, \"YNDX.MCX\": 7}, \"profit\": -10}\n",
      "{\"RUAL.MCX\": 32, \"YNDX.MCX\": 8, \"TATNP.MCX\": 46, \"SBERP.MCX\": 8, \"VKCO.MCX\": 1, \"RTKM.MCX\": 2, \"TRNFP.MCX\": 2, \"TCSG.MCX\": 1}\n",
      "13\n",
      "{\"shares\": {\"RUAL.MCX\": 32, \"YNDX.MCX\": 8, \"TATNP.MCX\": 46, \"SBERP.MCX\": 8, \"VKCO.MCX\": 1, \"RTKM.MCX\": 2, \"TRNFP.MCX\": 2, \"TCSG.MCX\": 1}, \"profit\": 13}\n",
      "{\"RTKM.MCX\": 18, \"NLMK.MCX\": 11, \"VKCO.MCX\": 47, \"VTBR.MCX\": 16, \"TATNP.MCX\": 1, \"SBERP.MCX\": 1, \"RUAL.MCX\": 2, \"SGZH.MCX\": 2, \"OZON.MCX\": 2}\n",
      "-43\n",
      "{\"shares\": {\"RTKM.MCX\": 18, \"NLMK.MCX\": 11, \"VKCO.MCX\": 47, \"VTBR.MCX\": 16, \"TATNP.MCX\": 1, \"SBERP.MCX\": 1, \"RUAL.MCX\": 2, \"SGZH.MCX\": 2, \"OZON.MCX\": 2}, \"profit\": -43}\n",
      "{\"ROSN.MCX\": 3, \"TCSG.MCX\": 42, \"PIKK.MCX\": 8, \"PLZL.MCX\": 19, \"RTKM.MCX\": 18, \"RUAL.MCX\": 7, \"OZON.MCX\": 1, \"NVTK.MCX\": 1, \"SGZH.MCX\": 1}\n",
      "-18\n",
      "{\"shares\": {\"ROSN.MCX\": 3, \"TCSG.MCX\": 42, \"PIKK.MCX\": 8, \"PLZL.MCX\": 19, \"RTKM.MCX\": 18, \"RUAL.MCX\": 7, \"OZON.MCX\": 1, \"NVTK.MCX\": 1, \"SGZH.MCX\": 1}, \"profit\": -18}\n",
      "{\"OZON.MCX\": 50, \"NVTK.MCX\": 41, \"SNGSP.MCX\": 2, \"SGZH.MCX\": 1, \"RUAL.MCX\": 5, \"VTBR.MCX\": 1}\n",
      "-6\n",
      "{\"shares\": {\"OZON.MCX\": 50, \"NVTK.MCX\": 41, \"SNGSP.MCX\": 2, \"SGZH.MCX\": 1, \"RUAL.MCX\": 5, \"VTBR.MCX\": 1}, \"profit\": -6}\n",
      "{\"SBERP.MCX\": 47, \"PIKK.MCX\": 19, \"PLZL.MCX\": 31, \"OZON.MCX\": 1, \"TATNP.MCX\": 2}\n",
      "-6\n",
      "{\"shares\": {\"SBERP.MCX\": 47, \"PIKK.MCX\": 19, \"PLZL.MCX\": 31, \"OZON.MCX\": 1, \"TATNP.MCX\": 2}, \"profit\": -6}\n",
      "{\"NLMK.MCX\": 15, \"VKCO.MCX\": 1, \"PHOR.MCX\": 3, \"TATNP.MCX\": 50, \"SBERP.MCX\": 7, \"RUAL.MCX\": 24}\n",
      "23\n",
      "{\"shares\": {\"NLMK.MCX\": 15, \"VKCO.MCX\": 1, \"PHOR.MCX\": 3, \"TATNP.MCX\": 50, \"SBERP.MCX\": 7, \"RUAL.MCX\": 24}, \"profit\": 23}\n",
      "{\"NVTK.MCX\": 11, \"OZON.MCX\": 20, \"TRNFP.MCX\": 17, \"SBERP.MCX\": 29, \"TATNP.MCX\": 7, \"TCSG.MCX\": 13, \"POLY.MCX\": 1, \"RTKM.MCX\": 2}\n",
      "-4\n",
      "{\"shares\": {\"NVTK.MCX\": 11, \"OZON.MCX\": 20, \"TRNFP.MCX\": 17, \"SBERP.MCX\": 29, \"TATNP.MCX\": 7, \"TCSG.MCX\": 13, \"POLY.MCX\": 1, \"RTKM.MCX\": 2}, \"profit\": -4}\n"
     ]
    },
    {
     "ename": "LookupError",
     "evalue": "",
     "output_type": "error",
     "traceback": [
      "\u001B[1;31m---------------------------------------------------------------------------\u001B[0m",
      "\u001B[1;31mLookupError\u001B[0m                               Traceback (most recent call last)",
      "Cell \u001B[1;32mIn[37], line 2\u001B[0m\n\u001B[0;32m      1\u001B[0m \u001B[38;5;28;01mwhile\u001B[39;00m \u001B[38;5;28;01mTrue\u001B[39;00m:\n\u001B[1;32m----> 2\u001B[0m     \u001B[43mmake_random_portfolio\u001B[49m\u001B[43m(\u001B[49m\u001B[43m)\u001B[49m\n\u001B[0;32m      3\u001B[0m     time\u001B[38;5;241m.\u001B[39msleep(\u001B[38;5;241m4\u001B[39m)\n",
      "Cell \u001B[1;32mIn[36], line 9\u001B[0m, in \u001B[0;36mmake_random_portfolio\u001B[1;34m()\u001B[0m\n\u001B[0;32m      6\u001B[0m \u001B[38;5;66;03m# Сбросить\u001B[39;00m\n\u001B[0;32m      7\u001B[0m \u001B[38;5;66;03m# reset = S(\"a.font-weight-bold:nth-child(2) > u:nth-child(1)\")\u001B[39;00m\n\u001B[0;32m      8\u001B[0m reset \u001B[38;5;241m=\u001B[39m S(\u001B[38;5;124m\"\u001B[39m\u001B[38;5;124ma.font-weight-bold:nth-child(2) > u:nth-child(1)\u001B[39m\u001B[38;5;124m\"\u001B[39m)\n\u001B[1;32m----> 9\u001B[0m \u001B[43mclick\u001B[49m\u001B[43m(\u001B[49m\u001B[43mreset\u001B[49m\u001B[43m)\u001B[49m\n\u001B[0;32m     11\u001B[0m \u001B[38;5;66;03m# Генерим и вводим доли\u001B[39;00m\n\u001B[0;32m     12\u001B[0m shares \u001B[38;5;241m=\u001B[39m make_shares(stocks)\n",
      "File \u001B[1;32m~\\PycharmProjects\\potyk-base\\.venv\\Lib\\site-packages\\helium\\__init__.py:294\u001B[0m, in \u001B[0;36mclick\u001B[1;34m(element)\u001B[0m\n\u001B[0;32m    281\u001B[0m \u001B[38;5;28;01mdef\u001B[39;00m \u001B[38;5;21mclick\u001B[39m(element):\n\u001B[0;32m    282\u001B[0m \u001B[38;5;250m\t\u001B[39m\u001B[38;5;124;03m\"\"\"\u001B[39;00m\n\u001B[0;32m    283\u001B[0m \u001B[38;5;124;03m\t:param element: The element or point to click.\u001B[39;00m\n\u001B[0;32m    284\u001B[0m \u001B[38;5;124;03m\t:type element: str, unicode, :py:class:`HTMLElement`, \\\u001B[39;00m\n\u001B[1;32m   (...)\u001B[0m\n\u001B[0;32m    292\u001B[0m \u001B[38;5;124;03m\t\tclick(ComboBox(\"File type\").top_left + (50, 0))\u001B[39;00m\n\u001B[0;32m    293\u001B[0m \u001B[38;5;124;03m\t\"\"\"\u001B[39;00m\n\u001B[1;32m--> 294\u001B[0m \t\u001B[43m_get_api_impl\u001B[49m\u001B[43m(\u001B[49m\u001B[43m)\u001B[49m\u001B[38;5;241;43m.\u001B[39;49m\u001B[43mclick_impl\u001B[49m\u001B[43m(\u001B[49m\u001B[43melement\u001B[49m\u001B[43m)\u001B[49m\n",
      "File \u001B[1;32m~\\PycharmProjects\\potyk-base\\.venv\\Lib\\site-packages\\helium\\_impl\\__init__.py:210\u001B[0m, in \u001B[0;36mAPIImpl.click_impl\u001B[1;34m(self, element)\u001B[0m\n\u001B[0;32m    209\u001B[0m \u001B[38;5;28;01mdef\u001B[39;00m \u001B[38;5;21mclick_impl\u001B[39m(\u001B[38;5;28mself\u001B[39m, element):\n\u001B[1;32m--> 210\u001B[0m \t\u001B[38;5;28;43mself\u001B[39;49m\u001B[38;5;241;43m.\u001B[39;49m\u001B[43m_perform_mouse_action\u001B[49m\u001B[43m(\u001B[49m\u001B[43melement\u001B[49m\u001B[43m,\u001B[49m\u001B[43m \u001B[49m\u001B[38;5;28;43mself\u001B[39;49m\u001B[38;5;241;43m.\u001B[39;49m\u001B[43m_click\u001B[49m\u001B[43m)\u001B[49m\n",
      "File \u001B[1;32m~\\PycharmProjects\\potyk-base\\.venv\\Lib\\site-packages\\helium\\_impl\\__init__.py:39\u001B[0m, in \u001B[0;36mmight_spawn_window.<locals>.f_decorated\u001B[1;34m(self, *args, **kwargs)\u001B[0m\n\u001B[0;32m     37\u001B[0m \t\u001B[38;5;28;01mreturn\u001B[39;00m f(\u001B[38;5;28mself\u001B[39m, \u001B[38;5;241m*\u001B[39margs, \u001B[38;5;241m*\u001B[39m\u001B[38;5;241m*\u001B[39mkwargs)\n\u001B[0;32m     38\u001B[0m window_handles_before \u001B[38;5;241m=\u001B[39m driver\u001B[38;5;241m.\u001B[39mwindow_handles[:]\n\u001B[1;32m---> 39\u001B[0m result \u001B[38;5;241m=\u001B[39m \u001B[43mf\u001B[49m\u001B[43m(\u001B[49m\u001B[38;5;28;43mself\u001B[39;49m\u001B[43m,\u001B[49m\u001B[43m \u001B[49m\u001B[38;5;241;43m*\u001B[39;49m\u001B[43margs\u001B[49m\u001B[43m,\u001B[49m\u001B[43m \u001B[49m\u001B[38;5;241;43m*\u001B[39;49m\u001B[38;5;241;43m*\u001B[39;49m\u001B[43mkwargs\u001B[49m\u001B[43m)\u001B[49m\n\u001B[0;32m     40\u001B[0m \u001B[38;5;66;03m# As above, don't access .window_handles in IE if an alert is present:\u001B[39;00m\n\u001B[0;32m     41\u001B[0m \u001B[38;5;28;01mif\u001B[39;00m \u001B[38;5;129;01mnot\u001B[39;00m (driver\u001B[38;5;241m.\u001B[39mis_ie() \u001B[38;5;129;01mand\u001B[39;00m AlertImpl(driver)\u001B[38;5;241m.\u001B[39mexists()):\n",
      "File \u001B[1;32m~\\PycharmProjects\\potyk-base\\.venv\\Lib\\site-packages\\helium\\_impl\\__init__.py:58\u001B[0m, in \u001B[0;36mhandle_unexpected_alert.<locals>.f_decorated\u001B[1;34m(*args, **kwargs)\u001B[0m\n\u001B[0;32m     56\u001B[0m \u001B[38;5;28;01mdef\u001B[39;00m \u001B[38;5;21mf_decorated\u001B[39m(\u001B[38;5;241m*\u001B[39margs, \u001B[38;5;241m*\u001B[39m\u001B[38;5;241m*\u001B[39mkwargs):\n\u001B[0;32m     57\u001B[0m \t\u001B[38;5;28;01mtry\u001B[39;00m:\n\u001B[1;32m---> 58\u001B[0m \t\t\u001B[38;5;28;01mreturn\u001B[39;00m \u001B[43mf\u001B[49m\u001B[43m(\u001B[49m\u001B[38;5;241;43m*\u001B[39;49m\u001B[43margs\u001B[49m\u001B[43m,\u001B[49m\u001B[43m \u001B[49m\u001B[38;5;241;43m*\u001B[39;49m\u001B[38;5;241;43m*\u001B[39;49m\u001B[43mkwargs\u001B[49m\u001B[43m)\u001B[49m\n\u001B[0;32m     59\u001B[0m \t\u001B[38;5;28;01mexcept\u001B[39;00m UnexpectedAlertPresentException:\n\u001B[0;32m     60\u001B[0m \t\t\u001B[38;5;28;01mraise\u001B[39;00m UnexpectedAlertPresentException(\n\u001B[0;32m     61\u001B[0m \t\t\t\u001B[38;5;124m\"\u001B[39m\u001B[38;5;124mThis command is not supported when an alert is present. To \u001B[39m\u001B[38;5;124m\"\u001B[39m\n\u001B[0;32m     62\u001B[0m \t\t\t\u001B[38;5;124m\"\u001B[39m\u001B[38;5;124maccept the alert (this usually corresponds to clicking \u001B[39m\u001B[38;5;124m'\u001B[39m\u001B[38;5;124mOK\u001B[39m\u001B[38;5;124m'\u001B[39m\u001B[38;5;124m) \u001B[39m\u001B[38;5;124m\"\u001B[39m\n\u001B[1;32m   (...)\u001B[0m\n\u001B[0;32m     66\u001B[0m \t\t\t\u001B[38;5;124m\"\u001B[39m\u001B[38;5;124mEg.: `write(\u001B[39m\u001B[38;5;124m'\u001B[39m\u001B[38;5;124mhi there!\u001B[39m\u001B[38;5;124m'\u001B[39m\u001B[38;5;124m)`.\u001B[39m\u001B[38;5;124m\"\u001B[39m\n\u001B[0;32m     67\u001B[0m \t\t)\n",
      "File \u001B[1;32m~\\PycharmProjects\\potyk-base\\.venv\\Lib\\site-packages\\helium\\_impl\\__init__.py:248\u001B[0m, in \u001B[0;36mAPIImpl._perform_mouse_action\u001B[1;34m(self, element, action)\u001B[0m\n\u001B[0;32m    244\u001B[0m \u001B[38;5;129m@might_spawn_window\u001B[39m\n\u001B[0;32m    245\u001B[0m \u001B[38;5;129m@handle_unexpected_alert\u001B[39m\n\u001B[0;32m    246\u001B[0m \u001B[38;5;28;01mdef\u001B[39;00m \u001B[38;5;21m_perform_mouse_action\u001B[39m(\u001B[38;5;28mself\u001B[39m, element, action):\n\u001B[0;32m    247\u001B[0m \telement, offset \u001B[38;5;241m=\u001B[39m \u001B[38;5;28mself\u001B[39m\u001B[38;5;241m.\u001B[39m_unwrap_clickable_element(element)\n\u001B[1;32m--> 248\u001B[0m \t\u001B[38;5;28;43mself\u001B[39;49m\u001B[38;5;241;43m.\u001B[39;49m\u001B[43m_manipulate\u001B[49m\u001B[43m(\u001B[49m\u001B[43melement\u001B[49m\u001B[43m,\u001B[49m\u001B[43m \u001B[49m\u001B[38;5;28;43;01mlambda\u001B[39;49;00m\u001B[43m \u001B[49m\u001B[43mwew\u001B[49m\u001B[43m:\u001B[49m\u001B[43m \u001B[49m\u001B[43maction\u001B[49m\u001B[43m(\u001B[49m\u001B[43mwew\u001B[49m\u001B[38;5;241;43m.\u001B[39;49m\u001B[43munwrap\u001B[49m\u001B[43m(\u001B[49m\u001B[43m)\u001B[49m\u001B[43m,\u001B[49m\u001B[43m \u001B[49m\u001B[43moffset\u001B[49m\u001B[43m)\u001B[49m\u001B[43m)\u001B[49m\n",
      "File \u001B[1;32m~\\PycharmProjects\\potyk-base\\.venv\\Lib\\site-packages\\helium\\_impl\\__init__.py:309\u001B[0m, in \u001B[0;36mAPIImpl._manipulate\u001B[1;34m(self, gui_or_web_elt, action)\u001B[0m\n\u001B[0;32m    306\u001B[0m driver \u001B[38;5;241m=\u001B[39m \u001B[38;5;28mself\u001B[39m\u001B[38;5;241m.\u001B[39mrequire_driver()\n\u001B[0;32m    307\u001B[0m \u001B[38;5;28;01mif\u001B[39;00m \u001B[38;5;28mhasattr\u001B[39m(gui_or_web_elt, \u001B[38;5;124m'\u001B[39m\u001B[38;5;124mperform\u001B[39m\u001B[38;5;124m'\u001B[39m) \\\n\u001B[0;32m    308\u001B[0m \t\u001B[38;5;129;01mand\u001B[39;00m \u001B[38;5;28mcallable\u001B[39m(gui_or_web_elt\u001B[38;5;241m.\u001B[39mperform):\n\u001B[1;32m--> 309\u001B[0m \tdriver\u001B[38;5;241m.\u001B[39mlast_manipulated_element \u001B[38;5;241m=\u001B[39m \u001B[43mgui_or_web_elt\u001B[49m\u001B[38;5;241;43m.\u001B[39;49m\u001B[43mperform\u001B[49m\u001B[43m(\u001B[49m\u001B[43maction\u001B[49m\u001B[43m)\u001B[49m\n\u001B[0;32m    310\u001B[0m \u001B[38;5;28;01melse\u001B[39;00m:\n\u001B[0;32m    311\u001B[0m \t\u001B[38;5;28;01mif\u001B[39;00m \u001B[38;5;28misinstance\u001B[39m(gui_or_web_elt, WebElement):\n",
      "File \u001B[1;32m~\\PycharmProjects\\potyk-base\\.venv\\Lib\\site-packages\\helium\\_impl\\__init__.py:656\u001B[0m, in \u001B[0;36mGUIElementImpl.perform\u001B[1;34m(self, action)\u001B[0m\n\u001B[0;32m    654\u001B[0m \u001B[38;5;28;01mif\u001B[39;00m result \u001B[38;5;129;01mis\u001B[39;00m \u001B[38;5;129;01mnot\u001B[39;00m \u001B[38;5;28;01mNone\u001B[39;00m:\n\u001B[0;32m    655\u001B[0m \t\u001B[38;5;28;01mreturn\u001B[39;00m result\n\u001B[1;32m--> 656\u001B[0m \u001B[38;5;28;01mraise\u001B[39;00m \u001B[38;5;167;01mLookupError\u001B[39;00m()\n",
      "\u001B[1;31mLookupError\u001B[0m: "
     ]
    }
   ],
   "source": [
    "with open('portfolios.csv', 'w', ) as f:\n",
    "    f.write(\",\".join([*stocks, 'profit']) + '\\n')\n",
    "    for portfolio in portfolios:\n",
    "\n",
    "        portfolio_line = ','.join(map(str,[\n",
    "            portfolio['shares'].get(stock, 0)\n",
    "            for stock in stocks\n",
    "        ] + [portfolio['profit']]))\n",
    "        f.write(portfolio_line + '\\n')\n"
   ],
   "metadata": {
    "collapsed": false,
    "ExecuteTime": {
     "end_time": "2023-08-21T15:01:19.947943200Z",
     "start_time": "2023-08-21T14:35:19.138438200Z"
    }
   }
  },
  {
   "cell_type": "code",
   "execution_count": 38,
   "outputs": [],
   "source": [
    "print(*stocks[::-1], sep='\\t')"
   ],
   "metadata": {
    "collapsed": false,
    "ExecuteTime": {
     "end_time": "2023-08-21T15:12:56.784552800Z",
     "start_time": "2023-08-21T15:12:56.775010Z"
    }
   }
  },
  {
   "cell_type": "code",
   "execution_count": 120,
   "outputs": [
    {
     "name": "stdout",
     "output_type": "stream",
     "text": [
      "=$AL$2+A2*$AK$2+B2*$AJ$2+C2*$AI$2+D2*$AH$2+E2*$AG$2+F2*$AF$2+G2*$AE$2+H2*$AD$2+I2*$AC$2+J2*$AB$2+K2*$AA$2+L2*$Z$2+M2*$Y$2+N2*$X$2+O2*$W$2+P2*$V$2+Q2*$U$2\n"
     ]
    }
   ],
   "source": [
    "import string\n",
    "\n",
    "cells = []\n",
    "\n",
    "for letter in reversed(string.ascii_uppercase):\n",
    "    if letter < 'L':\n",
    "        cell = \"$A\" + letter + \"$2\"\n",
    "        cells.append(cell)\n",
    "\n",
    "for letter in reversed(string.ascii_uppercase):\n",
    "    if letter > 'T':\n",
    "        cells.append(f\"${letter}$2\")\n",
    "\n",
    "formula = '=$AL$2'\n",
    "for letter, cell in zip(string.ascii_uppercase, cells):\n",
    "    formula += f\"+{letter}2*{cell}\"\n",
    "\n",
    "print(formula)\n",
    "\n"
   ],
   "metadata": {
    "collapsed": false,
    "ExecuteTime": {
     "end_time": "2023-06-08T10:16:46.547481800Z",
     "start_time": "2023-06-08T10:16:46.543343600Z"
    }
   }
  },
  {
   "cell_type": "code",
   "execution_count": null,
   "outputs": [],
   "source": [],
   "metadata": {
    "collapsed": false
   }
  }
 ],
 "metadata": {
  "kernelspec": {
   "display_name": "Python 3",
   "language": "python",
   "name": "python3"
  },
  "language_info": {
   "codemirror_mode": {
    "name": "ipython",
    "version": 2
   },
   "file_extension": ".py",
   "mimetype": "text/x-python",
   "name": "python",
   "nbconvert_exporter": "python",
   "pygments_lexer": "ipython2",
   "version": "2.7.6"
  }
 },
 "nbformat": 4,
 "nbformat_minor": 0
}
